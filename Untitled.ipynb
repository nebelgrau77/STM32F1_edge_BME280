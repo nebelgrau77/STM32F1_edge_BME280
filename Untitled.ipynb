{
 "cells": [
  {
   "cell_type": "code",
   "execution_count": 1,
   "metadata": {},
   "outputs": [],
   "source": [
    "import pandas as pd"
   ]
  },
  {
   "cell_type": "code",
   "execution_count": 2,
   "metadata": {},
   "outputs": [],
   "source": [
    "import random"
   ]
  },
  {
   "cell_type": "code",
   "execution_count": 8,
   "metadata": {},
   "outputs": [],
   "source": [
    "import numpy as np"
   ]
  },
  {
   "cell_type": "code",
   "execution_count": 9,
   "metadata": {},
   "outputs": [],
   "source": [
    "import matplotlib.pyplot as plt"
   ]
  },
  {
   "cell_type": "code",
   "execution_count": 3,
   "metadata": {},
   "outputs": [],
   "source": [
    "n = 100"
   ]
  },
  {
   "cell_type": "code",
   "execution_count": 47,
   "metadata": {},
   "outputs": [],
   "source": [
    "data = pd.DataFrame({'temp': [random.random()*20 + 5 for _ in range(n)], \n",
    "                     'hum': [random.random()*70+20 for _ in range(n)],\n",
    "                     'press':[random.random()*40 + 970 for _ in range(n)]})"
   ]
  },
  {
   "cell_type": "code",
   "execution_count": 7,
   "metadata": {},
   "outputs": [
    {
     "data": {
      "text/html": [
       "<div>\n",
       "<style scoped>\n",
       "    .dataframe tbody tr th:only-of-type {\n",
       "        vertical-align: middle;\n",
       "    }\n",
       "\n",
       "    .dataframe tbody tr th {\n",
       "        vertical-align: top;\n",
       "    }\n",
       "\n",
       "    .dataframe thead th {\n",
       "        text-align: right;\n",
       "    }\n",
       "</style>\n",
       "<table border=\"1\" class=\"dataframe\">\n",
       "  <thead>\n",
       "    <tr style=\"text-align: right;\">\n",
       "      <th></th>\n",
       "      <th>temp</th>\n",
       "      <th>hum</th>\n",
       "      <th>press</th>\n",
       "    </tr>\n",
       "  </thead>\n",
       "  <tbody>\n",
       "    <tr>\n",
       "      <th>count</th>\n",
       "      <td>100.000000</td>\n",
       "      <td>100.000000</td>\n",
       "      <td>100.000000</td>\n",
       "    </tr>\n",
       "    <tr>\n",
       "      <th>mean</th>\n",
       "      <td>15.056939</td>\n",
       "      <td>57.875919</td>\n",
       "      <td>990.431927</td>\n",
       "    </tr>\n",
       "    <tr>\n",
       "      <th>std</th>\n",
       "      <td>5.724883</td>\n",
       "      <td>21.002295</td>\n",
       "      <td>10.822112</td>\n",
       "    </tr>\n",
       "    <tr>\n",
       "      <th>min</th>\n",
       "      <td>5.450618</td>\n",
       "      <td>20.007633</td>\n",
       "      <td>970.033762</td>\n",
       "    </tr>\n",
       "    <tr>\n",
       "      <th>25%</th>\n",
       "      <td>10.480281</td>\n",
       "      <td>39.101736</td>\n",
       "      <td>982.240511</td>\n",
       "    </tr>\n",
       "    <tr>\n",
       "      <th>50%</th>\n",
       "      <td>15.775116</td>\n",
       "      <td>59.143737</td>\n",
       "      <td>988.642258</td>\n",
       "    </tr>\n",
       "    <tr>\n",
       "      <th>75%</th>\n",
       "      <td>19.853104</td>\n",
       "      <td>77.642266</td>\n",
       "      <td>999.329388</td>\n",
       "    </tr>\n",
       "    <tr>\n",
       "      <th>max</th>\n",
       "      <td>24.932591</td>\n",
       "      <td>89.390156</td>\n",
       "      <td>1009.631431</td>\n",
       "    </tr>\n",
       "  </tbody>\n",
       "</table>\n",
       "</div>"
      ],
      "text/plain": [
       "             temp         hum        press\n",
       "count  100.000000  100.000000   100.000000\n",
       "mean    15.056939   57.875919   990.431927\n",
       "std      5.724883   21.002295    10.822112\n",
       "min      5.450618   20.007633   970.033762\n",
       "25%     10.480281   39.101736   982.240511\n",
       "50%     15.775116   59.143737   988.642258\n",
       "75%     19.853104   77.642266   999.329388\n",
       "max     24.932591   89.390156  1009.631431"
      ]
     },
     "execution_count": 7,
     "metadata": {},
     "output_type": "execute_result"
    }
   ],
   "source": [
    "data.describe()"
   ]
  },
  {
   "cell_type": "code",
   "execution_count": 10,
   "metadata": {},
   "outputs": [
    {
     "data": {
      "text/html": [
       "<div>\n",
       "<style scoped>\n",
       "    .dataframe tbody tr th:only-of-type {\n",
       "        vertical-align: middle;\n",
       "    }\n",
       "\n",
       "    .dataframe tbody tr th {\n",
       "        vertical-align: top;\n",
       "    }\n",
       "\n",
       "    .dataframe thead th {\n",
       "        text-align: right;\n",
       "    }\n",
       "</style>\n",
       "<table border=\"1\" class=\"dataframe\">\n",
       "  <thead>\n",
       "    <tr style=\"text-align: right;\">\n",
       "      <th></th>\n",
       "      <th>temp</th>\n",
       "      <th>hum</th>\n",
       "      <th>press</th>\n",
       "    </tr>\n",
       "  </thead>\n",
       "  <tbody>\n",
       "    <tr>\n",
       "      <th>0</th>\n",
       "      <td>11.073389</td>\n",
       "      <td>66.683162</td>\n",
       "      <td>982.538638</td>\n",
       "    </tr>\n",
       "    <tr>\n",
       "      <th>1</th>\n",
       "      <td>17.214041</td>\n",
       "      <td>68.408868</td>\n",
       "      <td>982.615912</td>\n",
       "    </tr>\n",
       "    <tr>\n",
       "      <th>2</th>\n",
       "      <td>22.357573</td>\n",
       "      <td>24.227054</td>\n",
       "      <td>984.066710</td>\n",
       "    </tr>\n",
       "    <tr>\n",
       "      <th>3</th>\n",
       "      <td>15.325962</td>\n",
       "      <td>79.989932</td>\n",
       "      <td>987.790414</td>\n",
       "    </tr>\n",
       "    <tr>\n",
       "      <th>4</th>\n",
       "      <td>22.942508</td>\n",
       "      <td>81.133926</td>\n",
       "      <td>1000.730895</td>\n",
       "    </tr>\n",
       "  </tbody>\n",
       "</table>\n",
       "</div>"
      ],
      "text/plain": [
       "        temp        hum        press\n",
       "0  11.073389  66.683162   982.538638\n",
       "1  17.214041  68.408868   982.615912\n",
       "2  22.357573  24.227054   984.066710\n",
       "3  15.325962  79.989932   987.790414\n",
       "4  22.942508  81.133926  1000.730895"
      ]
     },
     "execution_count": 10,
     "metadata": {},
     "output_type": "execute_result"
    }
   ],
   "source": [
    "data.head()"
   ]
  },
  {
   "cell_type": "code",
   "execution_count": 67,
   "metadata": {},
   "outputs": [],
   "source": [
    "data.loc[((data['temp']<15) & (data['hum']>50) & (data['press']<995)) | ((data['temp']>23) & (data['hum']>60)), 'weather'] = 'unpleasant'"
   ]
  },
  {
   "cell_type": "code",
   "execution_count": 69,
   "metadata": {},
   "outputs": [],
   "source": [
    "data.loc[data['weather'].isna(), 'weather'] = 'ok'"
   ]
  },
  {
   "cell_type": "code",
   "execution_count": 26,
   "metadata": {},
   "outputs": [],
   "source": [
    "#data.loc[(data['temp']>20) & (data['hum']<40) & (data['press']>985), 'weather'] = 'nice'a"
   ]
  },
  {
   "cell_type": "code",
   "execution_count": 29,
   "metadata": {},
   "outputs": [],
   "source": [
    "#data.loc[(data['weather'].isna()) & (data['temp']<15) & (data['hum']>50) & (data['press']<995), 'weather'] = 'rather unpleasant'"
   ]
  },
  {
   "cell_type": "code",
   "execution_count": null,
   "metadata": {},
   "outputs": [],
   "source": []
  },
  {
   "cell_type": "code",
   "execution_count": 68,
   "metadata": {},
   "outputs": [
    {
     "data": {
      "text/html": [
       "<div>\n",
       "<style scoped>\n",
       "    .dataframe tbody tr th:only-of-type {\n",
       "        vertical-align: middle;\n",
       "    }\n",
       "\n",
       "    .dataframe tbody tr th {\n",
       "        vertical-align: top;\n",
       "    }\n",
       "\n",
       "    .dataframe thead th {\n",
       "        text-align: right;\n",
       "    }\n",
       "</style>\n",
       "<table border=\"1\" class=\"dataframe\">\n",
       "  <thead>\n",
       "    <tr style=\"text-align: right;\">\n",
       "      <th></th>\n",
       "      <th>temp</th>\n",
       "      <th>hum</th>\n",
       "      <th>press</th>\n",
       "      <th>weather</th>\n",
       "    </tr>\n",
       "  </thead>\n",
       "  <tbody>\n",
       "    <tr>\n",
       "      <th>5</th>\n",
       "      <td>5.500370</td>\n",
       "      <td>82.836754</td>\n",
       "      <td>986.496210</td>\n",
       "      <td>unpleasant</td>\n",
       "    </tr>\n",
       "    <tr>\n",
       "      <th>6</th>\n",
       "      <td>7.643634</td>\n",
       "      <td>76.566154</td>\n",
       "      <td>989.075852</td>\n",
       "      <td>unpleasant</td>\n",
       "    </tr>\n",
       "    <tr>\n",
       "      <th>9</th>\n",
       "      <td>13.275035</td>\n",
       "      <td>62.970407</td>\n",
       "      <td>982.412679</td>\n",
       "      <td>unpleasant</td>\n",
       "    </tr>\n",
       "    <tr>\n",
       "      <th>11</th>\n",
       "      <td>14.095295</td>\n",
       "      <td>60.247741</td>\n",
       "      <td>988.125446</td>\n",
       "      <td>unpleasant</td>\n",
       "    </tr>\n",
       "    <tr>\n",
       "      <th>36</th>\n",
       "      <td>5.595604</td>\n",
       "      <td>70.123980</td>\n",
       "      <td>977.583649</td>\n",
       "      <td>unpleasant</td>\n",
       "    </tr>\n",
       "    <tr>\n",
       "      <th>37</th>\n",
       "      <td>8.895205</td>\n",
       "      <td>72.916394</td>\n",
       "      <td>970.087398</td>\n",
       "      <td>unpleasant</td>\n",
       "    </tr>\n",
       "    <tr>\n",
       "      <th>43</th>\n",
       "      <td>9.449316</td>\n",
       "      <td>67.584344</td>\n",
       "      <td>984.148636</td>\n",
       "      <td>unpleasant</td>\n",
       "    </tr>\n",
       "    <tr>\n",
       "      <th>44</th>\n",
       "      <td>8.275921</td>\n",
       "      <td>63.746176</td>\n",
       "      <td>990.914855</td>\n",
       "      <td>unpleasant</td>\n",
       "    </tr>\n",
       "    <tr>\n",
       "      <th>46</th>\n",
       "      <td>13.469760</td>\n",
       "      <td>57.022048</td>\n",
       "      <td>991.243003</td>\n",
       "      <td>unpleasant</td>\n",
       "    </tr>\n",
       "    <tr>\n",
       "      <th>48</th>\n",
       "      <td>12.290645</td>\n",
       "      <td>62.860792</td>\n",
       "      <td>982.029034</td>\n",
       "      <td>unpleasant</td>\n",
       "    </tr>\n",
       "    <tr>\n",
       "      <th>52</th>\n",
       "      <td>7.636751</td>\n",
       "      <td>80.274334</td>\n",
       "      <td>984.588031</td>\n",
       "      <td>unpleasant</td>\n",
       "    </tr>\n",
       "    <tr>\n",
       "      <th>56</th>\n",
       "      <td>14.595677</td>\n",
       "      <td>60.528695</td>\n",
       "      <td>973.156337</td>\n",
       "      <td>unpleasant</td>\n",
       "    </tr>\n",
       "    <tr>\n",
       "      <th>62</th>\n",
       "      <td>10.726121</td>\n",
       "      <td>67.546994</td>\n",
       "      <td>974.856618</td>\n",
       "      <td>unpleasant</td>\n",
       "    </tr>\n",
       "    <tr>\n",
       "      <th>66</th>\n",
       "      <td>23.037037</td>\n",
       "      <td>84.899633</td>\n",
       "      <td>1001.466859</td>\n",
       "      <td>unpleasant</td>\n",
       "    </tr>\n",
       "    <tr>\n",
       "      <th>70</th>\n",
       "      <td>15.962183</td>\n",
       "      <td>74.402405</td>\n",
       "      <td>988.333262</td>\n",
       "      <td>unpleasant</td>\n",
       "    </tr>\n",
       "    <tr>\n",
       "      <th>71</th>\n",
       "      <td>14.521576</td>\n",
       "      <td>53.630349</td>\n",
       "      <td>991.906063</td>\n",
       "      <td>unpleasant</td>\n",
       "    </tr>\n",
       "    <tr>\n",
       "      <th>73</th>\n",
       "      <td>16.917539</td>\n",
       "      <td>66.419255</td>\n",
       "      <td>971.188076</td>\n",
       "      <td>unpleasant</td>\n",
       "    </tr>\n",
       "    <tr>\n",
       "      <th>74</th>\n",
       "      <td>23.763133</td>\n",
       "      <td>80.137274</td>\n",
       "      <td>997.311270</td>\n",
       "      <td>unpleasant</td>\n",
       "    </tr>\n",
       "    <tr>\n",
       "      <th>75</th>\n",
       "      <td>24.887178</td>\n",
       "      <td>83.540890</td>\n",
       "      <td>975.462177</td>\n",
       "      <td>unpleasant</td>\n",
       "    </tr>\n",
       "    <tr>\n",
       "      <th>76</th>\n",
       "      <td>10.542675</td>\n",
       "      <td>58.221813</td>\n",
       "      <td>982.054072</td>\n",
       "      <td>unpleasant</td>\n",
       "    </tr>\n",
       "    <tr>\n",
       "      <th>77</th>\n",
       "      <td>15.335450</td>\n",
       "      <td>60.001122</td>\n",
       "      <td>980.749219</td>\n",
       "      <td>unpleasant</td>\n",
       "    </tr>\n",
       "    <tr>\n",
       "      <th>78</th>\n",
       "      <td>5.307336</td>\n",
       "      <td>85.944679</td>\n",
       "      <td>993.640129</td>\n",
       "      <td>unpleasant</td>\n",
       "    </tr>\n",
       "    <tr>\n",
       "      <th>83</th>\n",
       "      <td>15.516626</td>\n",
       "      <td>57.974756</td>\n",
       "      <td>992.078527</td>\n",
       "      <td>unpleasant</td>\n",
       "    </tr>\n",
       "    <tr>\n",
       "      <th>84</th>\n",
       "      <td>9.166983</td>\n",
       "      <td>56.347471</td>\n",
       "      <td>989.787494</td>\n",
       "      <td>unpleasant</td>\n",
       "    </tr>\n",
       "    <tr>\n",
       "      <th>85</th>\n",
       "      <td>24.341803</td>\n",
       "      <td>68.785262</td>\n",
       "      <td>990.432665</td>\n",
       "      <td>unpleasant</td>\n",
       "    </tr>\n",
       "    <tr>\n",
       "      <th>89</th>\n",
       "      <td>23.492202</td>\n",
       "      <td>82.474732</td>\n",
       "      <td>986.774435</td>\n",
       "      <td>unpleasant</td>\n",
       "    </tr>\n",
       "    <tr>\n",
       "      <th>91</th>\n",
       "      <td>12.155400</td>\n",
       "      <td>79.381324</td>\n",
       "      <td>984.434533</td>\n",
       "      <td>unpleasant</td>\n",
       "    </tr>\n",
       "    <tr>\n",
       "      <th>99</th>\n",
       "      <td>9.825537</td>\n",
       "      <td>72.056634</td>\n",
       "      <td>975.844652</td>\n",
       "      <td>unpleasant</td>\n",
       "    </tr>\n",
       "  </tbody>\n",
       "</table>\n",
       "</div>"
      ],
      "text/plain": [
       "         temp        hum        press     weather\n",
       "5    5.500370  82.836754   986.496210  unpleasant\n",
       "6    7.643634  76.566154   989.075852  unpleasant\n",
       "9   13.275035  62.970407   982.412679  unpleasant\n",
       "11  14.095295  60.247741   988.125446  unpleasant\n",
       "36   5.595604  70.123980   977.583649  unpleasant\n",
       "37   8.895205  72.916394   970.087398  unpleasant\n",
       "43   9.449316  67.584344   984.148636  unpleasant\n",
       "44   8.275921  63.746176   990.914855  unpleasant\n",
       "46  13.469760  57.022048   991.243003  unpleasant\n",
       "48  12.290645  62.860792   982.029034  unpleasant\n",
       "52   7.636751  80.274334   984.588031  unpleasant\n",
       "56  14.595677  60.528695   973.156337  unpleasant\n",
       "62  10.726121  67.546994   974.856618  unpleasant\n",
       "66  23.037037  84.899633  1001.466859  unpleasant\n",
       "70  15.962183  74.402405   988.333262  unpleasant\n",
       "71  14.521576  53.630349   991.906063  unpleasant\n",
       "73  16.917539  66.419255   971.188076  unpleasant\n",
       "74  23.763133  80.137274   997.311270  unpleasant\n",
       "75  24.887178  83.540890   975.462177  unpleasant\n",
       "76  10.542675  58.221813   982.054072  unpleasant\n",
       "77  15.335450  60.001122   980.749219  unpleasant\n",
       "78   5.307336  85.944679   993.640129  unpleasant\n",
       "83  15.516626  57.974756   992.078527  unpleasant\n",
       "84   9.166983  56.347471   989.787494  unpleasant\n",
       "85  24.341803  68.785262   990.432665  unpleasant\n",
       "89  23.492202  82.474732   986.774435  unpleasant\n",
       "91  12.155400  79.381324   984.434533  unpleasant\n",
       "99   9.825537  72.056634   975.844652  unpleasant"
      ]
     },
     "execution_count": 68,
     "metadata": {},
     "output_type": "execute_result"
    }
   ],
   "source": [
    "data[data['weather'] == 'unpleasant']"
   ]
  },
  {
   "cell_type": "code",
   "execution_count": 73,
   "metadata": {},
   "outputs": [],
   "source": [
    "data['weather'] = pd.Categorical(data['weather'])"
   ]
  },
  {
   "cell_type": "code",
   "execution_count": 74,
   "metadata": {},
   "outputs": [],
   "source": [
    "data['weather_code'] = data['weather'].cat.codes"
   ]
  },
  {
   "cell_type": "code",
   "execution_count": 76,
   "metadata": {},
   "outputs": [
    {
     "data": {
      "text/html": [
       "<div>\n",
       "<style scoped>\n",
       "    .dataframe tbody tr th:only-of-type {\n",
       "        vertical-align: middle;\n",
       "    }\n",
       "\n",
       "    .dataframe tbody tr th {\n",
       "        vertical-align: top;\n",
       "    }\n",
       "\n",
       "    .dataframe thead th {\n",
       "        text-align: right;\n",
       "    }\n",
       "</style>\n",
       "<table border=\"1\" class=\"dataframe\">\n",
       "  <thead>\n",
       "    <tr style=\"text-align: right;\">\n",
       "      <th></th>\n",
       "      <th>temp</th>\n",
       "      <th>hum</th>\n",
       "      <th>press</th>\n",
       "      <th>weather</th>\n",
       "      <th>weather_code</th>\n",
       "    </tr>\n",
       "  </thead>\n",
       "  <tbody>\n",
       "    <tr>\n",
       "      <th>73</th>\n",
       "      <td>16.917539</td>\n",
       "      <td>66.419255</td>\n",
       "      <td>971.188076</td>\n",
       "      <td>unpleasant</td>\n",
       "      <td>1</td>\n",
       "    </tr>\n",
       "    <tr>\n",
       "      <th>53</th>\n",
       "      <td>8.408157</td>\n",
       "      <td>86.143788</td>\n",
       "      <td>997.658329</td>\n",
       "      <td>ok</td>\n",
       "      <td>0</td>\n",
       "    </tr>\n",
       "    <tr>\n",
       "      <th>91</th>\n",
       "      <td>12.155400</td>\n",
       "      <td>79.381324</td>\n",
       "      <td>984.434533</td>\n",
       "      <td>unpleasant</td>\n",
       "      <td>1</td>\n",
       "    </tr>\n",
       "    <tr>\n",
       "      <th>39</th>\n",
       "      <td>18.622630</td>\n",
       "      <td>43.741421</td>\n",
       "      <td>998.136760</td>\n",
       "      <td>ok</td>\n",
       "      <td>0</td>\n",
       "    </tr>\n",
       "    <tr>\n",
       "      <th>57</th>\n",
       "      <td>23.149326</td>\n",
       "      <td>58.972103</td>\n",
       "      <td>991.376669</td>\n",
       "      <td>ok</td>\n",
       "      <td>0</td>\n",
       "    </tr>\n",
       "  </tbody>\n",
       "</table>\n",
       "</div>"
      ],
      "text/plain": [
       "         temp        hum       press     weather  weather_code\n",
       "73  16.917539  66.419255  971.188076  unpleasant             1\n",
       "53   8.408157  86.143788  997.658329          ok             0\n",
       "91  12.155400  79.381324  984.434533  unpleasant             1\n",
       "39  18.622630  43.741421  998.136760          ok             0\n",
       "57  23.149326  58.972103  991.376669          ok             0"
      ]
     },
     "execution_count": 76,
     "metadata": {},
     "output_type": "execute_result"
    }
   ],
   "source": [
    "data.sample(5)"
   ]
  },
  {
   "cell_type": "code",
   "execution_count": 70,
   "metadata": {},
   "outputs": [],
   "source": [
    "from sklearn.linear_model import LogisticRegression"
   ]
  },
  {
   "cell_type": "code",
   "execution_count": 71,
   "metadata": {},
   "outputs": [],
   "source": [
    "from sklearn.model_selection import train_test_split"
   ]
  },
  {
   "cell_type": "code",
   "execution_count": 72,
   "metadata": {},
   "outputs": [],
   "source": [
    "X = data[['temp', 'hum', 'press']]"
   ]
  },
  {
   "cell_type": "code",
   "execution_count": 77,
   "metadata": {},
   "outputs": [],
   "source": [
    "y = data['weather_code']"
   ]
  },
  {
   "cell_type": "code",
   "execution_count": 78,
   "metadata": {},
   "outputs": [
    {
     "data": {
      "text/plain": [
       "\u001b[0;31mSignature:\u001b[0m \u001b[0mtrain_test_split\u001b[0m\u001b[0;34m(\u001b[0m\u001b[0;34m*\u001b[0m\u001b[0marrays\u001b[0m\u001b[0;34m,\u001b[0m \u001b[0;34m**\u001b[0m\u001b[0moptions\u001b[0m\u001b[0;34m)\u001b[0m\u001b[0;34m\u001b[0m\u001b[0;34m\u001b[0m\u001b[0m\n",
       "\u001b[0;31mDocstring:\u001b[0m\n",
       "Split arrays or matrices into random train and test subsets\n",
       "\n",
       "Quick utility that wraps input validation and\n",
       "``next(ShuffleSplit().split(X, y))`` and application to input data\n",
       "into a single call for splitting (and optionally subsampling) data in a\n",
       "oneliner.\n",
       "\n",
       "Read more in the :ref:`User Guide <cross_validation>`.\n",
       "\n",
       "Parameters\n",
       "----------\n",
       "*arrays : sequence of indexables with same length / shape[0]\n",
       "    Allowed inputs are lists, numpy arrays, scipy-sparse\n",
       "    matrices or pandas dataframes.\n",
       "\n",
       "test_size : float, int or None, optional (default=None)\n",
       "    If float, should be between 0.0 and 1.0 and represent the proportion\n",
       "    of the dataset to include in the test split. If int, represents the\n",
       "    absolute number of test samples. If None, the value is set to the\n",
       "    complement of the train size. If ``train_size`` is also None, it will\n",
       "    be set to 0.25.\n",
       "\n",
       "train_size : float, int, or None, (default=None)\n",
       "    If float, should be between 0.0 and 1.0 and represent the\n",
       "    proportion of the dataset to include in the train split. If\n",
       "    int, represents the absolute number of train samples. If None,\n",
       "    the value is automatically set to the complement of the test size.\n",
       "\n",
       "random_state : int, RandomState instance or None, optional (default=None)\n",
       "    If int, random_state is the seed used by the random number generator;\n",
       "    If RandomState instance, random_state is the random number generator;\n",
       "    If None, the random number generator is the RandomState instance used\n",
       "    by `np.random`.\n",
       "\n",
       "shuffle : boolean, optional (default=True)\n",
       "    Whether or not to shuffle the data before splitting. If shuffle=False\n",
       "    then stratify must be None.\n",
       "\n",
       "stratify : array-like or None (default=None)\n",
       "    If not None, data is split in a stratified fashion, using this as\n",
       "    the class labels.\n",
       "\n",
       "Returns\n",
       "-------\n",
       "splitting : list, length=2 * len(arrays)\n",
       "    List containing train-test split of inputs.\n",
       "\n",
       "    .. versionadded:: 0.16\n",
       "        If the input is sparse, the output will be a\n",
       "        ``scipy.sparse.csr_matrix``. Else, output type is the same as the\n",
       "        input type.\n",
       "\n",
       "Examples\n",
       "--------\n",
       ">>> import numpy as np\n",
       ">>> from sklearn.model_selection import train_test_split\n",
       ">>> X, y = np.arange(10).reshape((5, 2)), range(5)\n",
       ">>> X\n",
       "array([[0, 1],\n",
       "       [2, 3],\n",
       "       [4, 5],\n",
       "       [6, 7],\n",
       "       [8, 9]])\n",
       ">>> list(y)\n",
       "[0, 1, 2, 3, 4]\n",
       "\n",
       ">>> X_train, X_test, y_train, y_test = train_test_split(\n",
       "...     X, y, test_size=0.33, random_state=42)\n",
       "...\n",
       ">>> X_train\n",
       "array([[4, 5],\n",
       "       [0, 1],\n",
       "       [6, 7]])\n",
       ">>> y_train\n",
       "[2, 0, 3]\n",
       ">>> X_test\n",
       "array([[2, 3],\n",
       "       [8, 9]])\n",
       ">>> y_test\n",
       "[1, 4]\n",
       "\n",
       ">>> train_test_split(y, shuffle=False)\n",
       "[[0, 1, 2], [3, 4]]\n",
       "\u001b[0;31mFile:\u001b[0m      ~/miniconda3/envs/minimal_ds/lib/python3.7/site-packages/sklearn/model_selection/_split.py\n",
       "\u001b[0;31mType:\u001b[0m      function\n"
      ]
     },
     "metadata": {},
     "output_type": "display_data"
    }
   ],
   "source": [
    "Xtrain_test_split()"
   ]
  },
  {
   "cell_type": "code",
   "execution_count": 79,
   "metadata": {},
   "outputs": [],
   "source": [
    "X_train, X_text, y_train, y_test = train_test_split(X,y)"
   ]
  },
  {
   "cell_type": "code",
   "execution_count": 80,
   "metadata": {},
   "outputs": [
    {
     "data": {
      "text/plain": [
       "(75, 3)"
      ]
     },
     "execution_count": 80,
     "metadata": {},
     "output_type": "execute_result"
    }
   ],
   "source": [
    "X_train.shape"
   ]
  },
  {
   "cell_type": "code",
   "execution_count": 81,
   "metadata": {},
   "outputs": [
    {
     "data": {
      "text/plain": [
       "(75,)"
      ]
     },
     "execution_count": 81,
     "metadata": {},
     "output_type": "execute_result"
    }
   ],
   "source": [
    "y_train.shape"
   ]
  },
  {
   "cell_type": "code",
   "execution_count": 86,
   "metadata": {},
   "outputs": [],
   "source": [
    "logreg = LogisticRegression()"
   ]
  },
  {
   "cell_type": "code",
   "execution_count": 87,
   "metadata": {},
   "outputs": [
    {
     "data": {
      "text/plain": [
       "LogisticRegression(C=1.0, class_weight=None, dual=False, fit_intercept=True,\n",
       "                   intercept_scaling=1, l1_ratio=None, max_iter=100,\n",
       "                   multi_class='warn', n_jobs=None, penalty='l2',\n",
       "                   random_state=None, solver='warn', tol=0.0001, verbose=0,\n",
       "                   warm_start=False)"
      ]
     },
     "execution_count": 87,
     "metadata": {},
     "output_type": "execute_result"
    }
   ],
   "source": [
    "logreg.fit(X_train, y_train)"
   ]
  },
  {
   "cell_type": "code",
   "execution_count": 88,
   "metadata": {},
   "outputs": [
    {
     "data": {
      "text/plain": [
       "array([[-0.03675471,  0.07641829, -0.00494313]])"
      ]
     },
     "execution_count": 88,
     "metadata": {},
     "output_type": "execute_result"
    }
   ],
   "source": [
    "logreg.coef_"
   ]
  },
  {
   "cell_type": "code",
   "execution_count": 89,
   "metadata": {},
   "outputs": [
    {
     "data": {
      "text/plain": [
       "array([0.00092023])"
      ]
     },
     "execution_count": 89,
     "metadata": {},
     "output_type": "execute_result"
    }
   ],
   "source": [
    "logreg.intercept_"
   ]
  },
  {
   "cell_type": "code",
   "execution_count": 90,
   "metadata": {},
   "outputs": [],
   "source": [
    "x = np.arange(100)"
   ]
  },
  {
   "cell_type": "code",
   "execution_count": null,
   "metadata": {},
   "outputs": [],
   "source": []
  }
 ],
 "metadata": {
  "kernelspec": {
   "display_name": "Python 3",
   "language": "python",
   "name": "python3"
  },
  "language_info": {
   "codemirror_mode": {
    "name": "ipython",
    "version": 3
   },
   "file_extension": ".py",
   "mimetype": "text/x-python",
   "name": "python",
   "nbconvert_exporter": "python",
   "pygments_lexer": "ipython3",
   "version": "3.7.6"
  }
 },
 "nbformat": 4,
 "nbformat_minor": 4
}
