{
 "cells": [
  {
   "cell_type": "markdown",
   "metadata": {},
   "source": [
    "# WORK IN PROGRESS\n",
    "Just a messy notebook I used to generate some synthetic data and labels, to build a simple ML model and get coefficients for decision boundaries, used later in my Rust code on STM32F1 with BME280 environment sensor."
   ]
  },
  {
   "cell_type": "code",
   "execution_count": 1,
   "metadata": {},
   "outputs": [],
   "source": [
    "import pandas as pd"
   ]
  },
  {
   "cell_type": "code",
   "execution_count": 2,
   "metadata": {},
   "outputs": [],
   "source": [
    "import random"
   ]
  },
  {
   "cell_type": "code",
   "execution_count": 3,
   "metadata": {},
   "outputs": [],
   "source": [
    "n = 10000"
   ]
  },
  {
   "cell_type": "code",
   "execution_count": 4,
   "metadata": {},
   "outputs": [],
   "source": [
    "# generate random values in range from -10 to 35 for temperature and 0 to 100 for humidity\n",
    "\n",
    "data = pd.DataFrame({'temp': [random.random() * 45 - 10 for _ in range(n)], \n",
    "                     'hum': [random.random() * 100 for _ in range(n)]})"
   ]
  },
  {
   "cell_type": "code",
   "execution_count": 5,
   "metadata": {},
   "outputs": [
    {
     "data": {
      "text/html": [
       "<div>\n",
       "<style scoped>\n",
       "    .dataframe tbody tr th:only-of-type {\n",
       "        vertical-align: middle;\n",
       "    }\n",
       "\n",
       "    .dataframe tbody tr th {\n",
       "        vertical-align: top;\n",
       "    }\n",
       "\n",
       "    .dataframe thead th {\n",
       "        text-align: right;\n",
       "    }\n",
       "</style>\n",
       "<table border=\"1\" class=\"dataframe\">\n",
       "  <thead>\n",
       "    <tr style=\"text-align: right;\">\n",
       "      <th></th>\n",
       "      <th>temp</th>\n",
       "      <th>hum</th>\n",
       "    </tr>\n",
       "  </thead>\n",
       "  <tbody>\n",
       "    <tr>\n",
       "      <th>count</th>\n",
       "      <td>10000.000000</td>\n",
       "      <td>10000.000000</td>\n",
       "    </tr>\n",
       "    <tr>\n",
       "      <th>mean</th>\n",
       "      <td>12.492388</td>\n",
       "      <td>49.817336</td>\n",
       "    </tr>\n",
       "    <tr>\n",
       "      <th>std</th>\n",
       "      <td>13.052862</td>\n",
       "      <td>28.783640</td>\n",
       "    </tr>\n",
       "    <tr>\n",
       "      <th>min</th>\n",
       "      <td>-9.993413</td>\n",
       "      <td>0.004202</td>\n",
       "    </tr>\n",
       "    <tr>\n",
       "      <th>25%</th>\n",
       "      <td>1.052624</td>\n",
       "      <td>25.152596</td>\n",
       "    </tr>\n",
       "    <tr>\n",
       "      <th>50%</th>\n",
       "      <td>12.520486</td>\n",
       "      <td>49.894043</td>\n",
       "    </tr>\n",
       "    <tr>\n",
       "      <th>75%</th>\n",
       "      <td>23.819750</td>\n",
       "      <td>74.581331</td>\n",
       "    </tr>\n",
       "    <tr>\n",
       "      <th>max</th>\n",
       "      <td>34.994183</td>\n",
       "      <td>99.999582</td>\n",
       "    </tr>\n",
       "  </tbody>\n",
       "</table>\n",
       "</div>"
      ],
      "text/plain": [
       "               temp           hum\n",
       "count  10000.000000  10000.000000\n",
       "mean      12.492388     49.817336\n",
       "std       13.052862     28.783640\n",
       "min       -9.993413      0.004202\n",
       "25%        1.052624     25.152596\n",
       "50%       12.520486     49.894043\n",
       "75%       23.819750     74.581331\n",
       "max       34.994183     99.999582"
      ]
     },
     "execution_count": 5,
     "metadata": {},
     "output_type": "execute_result"
    }
   ],
   "source": [
    "# check if generated values look OK\n",
    "\n",
    "data.describe()"
   ]
  },
  {
   "cell_type": "code",
   "execution_count": null,
   "metadata": {},
   "outputs": [],
   "source": []
  },
  {
   "cell_type": "code",
   "execution_count": 6,
   "metadata": {},
   "outputs": [],
   "source": [
    "# humidity below 25% is considered 'dry', above 70%: 'humid', otherwise it's moderate\n",
    "\n",
    "data.loc[data['hum'] < 25, 'hum_cat'] = 'dry'\n",
    "data.loc[data['hum'] > 70, 'hum_cat'] = 'humid'\n",
    "data.loc[data['hum_cat'].isna(), 'hum_cat'] = 'moderate'\n"
   ]
  },
  {
   "cell_type": "code",
   "execution_count": 7,
   "metadata": {},
   "outputs": [
    {
     "data": {
      "text/html": [
       "<div>\n",
       "<style scoped>\n",
       "    .dataframe tbody tr th:only-of-type {\n",
       "        vertical-align: middle;\n",
       "    }\n",
       "\n",
       "    .dataframe tbody tr th {\n",
       "        vertical-align: top;\n",
       "    }\n",
       "\n",
       "    .dataframe thead th {\n",
       "        text-align: right;\n",
       "    }\n",
       "</style>\n",
       "<table border=\"1\" class=\"dataframe\">\n",
       "  <thead>\n",
       "    <tr style=\"text-align: right;\">\n",
       "      <th></th>\n",
       "      <th>temp</th>\n",
       "      <th>hum</th>\n",
       "      <th>hum_cat</th>\n",
       "    </tr>\n",
       "  </thead>\n",
       "  <tbody>\n",
       "    <tr>\n",
       "      <th>0</th>\n",
       "      <td>-9.895657</td>\n",
       "      <td>94.587835</td>\n",
       "      <td>humid</td>\n",
       "    </tr>\n",
       "    <tr>\n",
       "      <th>1</th>\n",
       "      <td>19.882215</td>\n",
       "      <td>65.536729</td>\n",
       "      <td>moderate</td>\n",
       "    </tr>\n",
       "    <tr>\n",
       "      <th>2</th>\n",
       "      <td>10.956352</td>\n",
       "      <td>90.759686</td>\n",
       "      <td>humid</td>\n",
       "    </tr>\n",
       "    <tr>\n",
       "      <th>3</th>\n",
       "      <td>3.653477</td>\n",
       "      <td>40.023353</td>\n",
       "      <td>moderate</td>\n",
       "    </tr>\n",
       "    <tr>\n",
       "      <th>4</th>\n",
       "      <td>16.621728</td>\n",
       "      <td>18.904795</td>\n",
       "      <td>dry</td>\n",
       "    </tr>\n",
       "  </tbody>\n",
       "</table>\n",
       "</div>"
      ],
      "text/plain": [
       "        temp        hum   hum_cat\n",
       "0  -9.895657  94.587835     humid\n",
       "1  19.882215  65.536729  moderate\n",
       "2  10.956352  90.759686     humid\n",
       "3   3.653477  40.023353  moderate\n",
       "4  16.621728  18.904795       dry"
      ]
     },
     "execution_count": 7,
     "metadata": {},
     "output_type": "execute_result"
    }
   ],
   "source": [
    "data.head()"
   ]
  },
  {
   "cell_type": "code",
   "execution_count": 41,
   "metadata": {},
   "outputs": [],
   "source": [
    "# temperature below 10°C is considered 'cold', above 22°C: 'warm', otherwise it's moderate"
   ]
  },
  {
   "cell_type": "code",
   "execution_count": 8,
   "metadata": {},
   "outputs": [],
   "source": [
    "data.loc[data['temp'] < 10, 'temp_cat'] = 'cold'\n",
    "data.loc[data['temp'] > 22, 'temp_cat'] = 'warm'\n",
    "data.loc[data['temp_cat'].isna(), 'temp_cat'] = 'moderate'"
   ]
  },
  {
   "cell_type": "code",
   "execution_count": 9,
   "metadata": {},
   "outputs": [
    {
     "data": {
      "text/html": [
       "<div>\n",
       "<style scoped>\n",
       "    .dataframe tbody tr th:only-of-type {\n",
       "        vertical-align: middle;\n",
       "    }\n",
       "\n",
       "    .dataframe tbody tr th {\n",
       "        vertical-align: top;\n",
       "    }\n",
       "\n",
       "    .dataframe thead th {\n",
       "        text-align: right;\n",
       "    }\n",
       "</style>\n",
       "<table border=\"1\" class=\"dataframe\">\n",
       "  <thead>\n",
       "    <tr style=\"text-align: right;\">\n",
       "      <th></th>\n",
       "      <th>temp</th>\n",
       "      <th>hum</th>\n",
       "      <th>hum_cat</th>\n",
       "      <th>temp_cat</th>\n",
       "    </tr>\n",
       "  </thead>\n",
       "  <tbody>\n",
       "    <tr>\n",
       "      <th>0</th>\n",
       "      <td>-9.895657</td>\n",
       "      <td>94.587835</td>\n",
       "      <td>humid</td>\n",
       "      <td>cold</td>\n",
       "    </tr>\n",
       "    <tr>\n",
       "      <th>1</th>\n",
       "      <td>19.882215</td>\n",
       "      <td>65.536729</td>\n",
       "      <td>moderate</td>\n",
       "      <td>moderate</td>\n",
       "    </tr>\n",
       "    <tr>\n",
       "      <th>2</th>\n",
       "      <td>10.956352</td>\n",
       "      <td>90.759686</td>\n",
       "      <td>humid</td>\n",
       "      <td>moderate</td>\n",
       "    </tr>\n",
       "    <tr>\n",
       "      <th>3</th>\n",
       "      <td>3.653477</td>\n",
       "      <td>40.023353</td>\n",
       "      <td>moderate</td>\n",
       "      <td>cold</td>\n",
       "    </tr>\n",
       "    <tr>\n",
       "      <th>4</th>\n",
       "      <td>16.621728</td>\n",
       "      <td>18.904795</td>\n",
       "      <td>dry</td>\n",
       "      <td>moderate</td>\n",
       "    </tr>\n",
       "  </tbody>\n",
       "</table>\n",
       "</div>"
      ],
      "text/plain": [
       "        temp        hum   hum_cat  temp_cat\n",
       "0  -9.895657  94.587835     humid      cold\n",
       "1  19.882215  65.536729  moderate  moderate\n",
       "2  10.956352  90.759686     humid  moderate\n",
       "3   3.653477  40.023353  moderate      cold\n",
       "4  16.621728  18.904795       dry  moderate"
      ]
     },
     "execution_count": 9,
     "metadata": {},
     "output_type": "execute_result"
    }
   ],
   "source": [
    "data.head()"
   ]
  },
  {
   "cell_type": "code",
   "execution_count": 10,
   "metadata": {},
   "outputs": [],
   "source": [
    "# combine the two columns\n",
    "data['weather'] = data['temp_cat'] + ' ' + data['hum_cat']"
   ]
  },
  {
   "cell_type": "code",
   "execution_count": 11,
   "metadata": {},
   "outputs": [
    {
     "data": {
      "text/html": [
       "<div>\n",
       "<style scoped>\n",
       "    .dataframe tbody tr th:only-of-type {\n",
       "        vertical-align: middle;\n",
       "    }\n",
       "\n",
       "    .dataframe tbody tr th {\n",
       "        vertical-align: top;\n",
       "    }\n",
       "\n",
       "    .dataframe thead th {\n",
       "        text-align: right;\n",
       "    }\n",
       "</style>\n",
       "<table border=\"1\" class=\"dataframe\">\n",
       "  <thead>\n",
       "    <tr style=\"text-align: right;\">\n",
       "      <th></th>\n",
       "      <th>temp</th>\n",
       "      <th>hum</th>\n",
       "      <th>hum_cat</th>\n",
       "      <th>temp_cat</th>\n",
       "      <th>weather</th>\n",
       "    </tr>\n",
       "  </thead>\n",
       "  <tbody>\n",
       "    <tr>\n",
       "      <th>0</th>\n",
       "      <td>-9.895657</td>\n",
       "      <td>94.587835</td>\n",
       "      <td>humid</td>\n",
       "      <td>cold</td>\n",
       "      <td>cold humid</td>\n",
       "    </tr>\n",
       "    <tr>\n",
       "      <th>1</th>\n",
       "      <td>19.882215</td>\n",
       "      <td>65.536729</td>\n",
       "      <td>moderate</td>\n",
       "      <td>moderate</td>\n",
       "      <td>moderate moderate</td>\n",
       "    </tr>\n",
       "    <tr>\n",
       "      <th>2</th>\n",
       "      <td>10.956352</td>\n",
       "      <td>90.759686</td>\n",
       "      <td>humid</td>\n",
       "      <td>moderate</td>\n",
       "      <td>moderate humid</td>\n",
       "    </tr>\n",
       "    <tr>\n",
       "      <th>3</th>\n",
       "      <td>3.653477</td>\n",
       "      <td>40.023353</td>\n",
       "      <td>moderate</td>\n",
       "      <td>cold</td>\n",
       "      <td>cold moderate</td>\n",
       "    </tr>\n",
       "    <tr>\n",
       "      <th>4</th>\n",
       "      <td>16.621728</td>\n",
       "      <td>18.904795</td>\n",
       "      <td>dry</td>\n",
       "      <td>moderate</td>\n",
       "      <td>moderate dry</td>\n",
       "    </tr>\n",
       "  </tbody>\n",
       "</table>\n",
       "</div>"
      ],
      "text/plain": [
       "        temp        hum   hum_cat  temp_cat            weather\n",
       "0  -9.895657  94.587835     humid      cold         cold humid\n",
       "1  19.882215  65.536729  moderate  moderate  moderate moderate\n",
       "2  10.956352  90.759686     humid  moderate     moderate humid\n",
       "3   3.653477  40.023353  moderate      cold      cold moderate\n",
       "4  16.621728  18.904795       dry  moderate       moderate dry"
      ]
     },
     "execution_count": 11,
     "metadata": {},
     "output_type": "execute_result"
    }
   ],
   "source": [
    "data.head()"
   ]
  },
  {
   "cell_type": "code",
   "execution_count": 12,
   "metadata": {},
   "outputs": [
    {
     "data": {
      "text/plain": [
       "array(['cold humid', 'moderate moderate', 'moderate humid',\n",
       "       'cold moderate', 'moderate dry', 'warm humid', 'cold dry',\n",
       "       'warm dry', 'warm moderate'], dtype=object)"
      ]
     },
     "execution_count": 12,
     "metadata": {},
     "output_type": "execute_result"
    }
   ],
   "source": [
    "data['weather'].unique()"
   ]
  },
  {
   "cell_type": "code",
   "execution_count": null,
   "metadata": {},
   "outputs": [],
   "source": [
    "# weather is classified as one of three classes: 'nice', 'average', 'bad'"
   ]
  },
  {
   "cell_type": "code",
   "execution_count": 13,
   "metadata": {},
   "outputs": [],
   "source": [
    "weathercats = ['nice', 'ok', 'bad']"
   ]
  },
  {
   "cell_type": "code",
   "execution_count": 15,
   "metadata": {},
   "outputs": [],
   "source": [
    "# randomize\n",
    "\n",
    "random_cats = {}\n",
    "\n",
    "for idx, cat in enumerate(weathercats):\n",
    "    output = [weathercats[idx] for _ in range(17)] + [weathercats[idx-1] for _ in range(2)] + [weathercats[idx-2]]\n",
    "    random_cats[cat] = output\n",
    "\n",
    "    \n"
   ]
  },
  {
   "cell_type": "code",
   "execution_count": 16,
   "metadata": {
    "collapsed": true,
    "jupyter": {
     "outputs_hidden": true
    }
   },
   "outputs": [
    {
     "data": {
      "text/plain": [
       "{'nice': ['nice',\n",
       "  'nice',\n",
       "  'nice',\n",
       "  'nice',\n",
       "  'nice',\n",
       "  'nice',\n",
       "  'nice',\n",
       "  'nice',\n",
       "  'nice',\n",
       "  'nice',\n",
       "  'nice',\n",
       "  'nice',\n",
       "  'nice',\n",
       "  'nice',\n",
       "  'nice',\n",
       "  'nice',\n",
       "  'nice',\n",
       "  'bad',\n",
       "  'bad',\n",
       "  'ok'],\n",
       " 'ok': ['ok',\n",
       "  'ok',\n",
       "  'ok',\n",
       "  'ok',\n",
       "  'ok',\n",
       "  'ok',\n",
       "  'ok',\n",
       "  'ok',\n",
       "  'ok',\n",
       "  'ok',\n",
       "  'ok',\n",
       "  'ok',\n",
       "  'ok',\n",
       "  'ok',\n",
       "  'ok',\n",
       "  'ok',\n",
       "  'ok',\n",
       "  'nice',\n",
       "  'nice',\n",
       "  'bad'],\n",
       " 'bad': ['bad',\n",
       "  'bad',\n",
       "  'bad',\n",
       "  'bad',\n",
       "  'bad',\n",
       "  'bad',\n",
       "  'bad',\n",
       "  'bad',\n",
       "  'bad',\n",
       "  'bad',\n",
       "  'bad',\n",
       "  'bad',\n",
       "  'bad',\n",
       "  'bad',\n",
       "  'bad',\n",
       "  'bad',\n",
       "  'bad',\n",
       "  'ok',\n",
       "  'ok',\n",
       "  'nice']}"
      ]
     },
     "execution_count": 16,
     "metadata": {},
     "output_type": "execute_result"
    }
   ],
   "source": [
    "random_cats"
   ]
  },
  {
   "cell_type": "code",
   "execution_count": 17,
   "metadata": {},
   "outputs": [],
   "source": [
    "def randomizer(row, cat):\n",
    "    return random.choice(random_cats[cat])"
   ]
  },
  {
   "cell_type": "code",
   "execution_count": 19,
   "metadata": {},
   "outputs": [
    {
     "data": {
      "text/html": [
       "<div>\n",
       "<style scoped>\n",
       "    .dataframe tbody tr th:only-of-type {\n",
       "        vertical-align: middle;\n",
       "    }\n",
       "\n",
       "    .dataframe tbody tr th {\n",
       "        vertical-align: top;\n",
       "    }\n",
       "\n",
       "    .dataframe thead th {\n",
       "        text-align: right;\n",
       "    }\n",
       "</style>\n",
       "<table border=\"1\" class=\"dataframe\">\n",
       "  <thead>\n",
       "    <tr style=\"text-align: right;\">\n",
       "      <th></th>\n",
       "      <th>temp</th>\n",
       "      <th>hum</th>\n",
       "      <th>hum_cat</th>\n",
       "      <th>temp_cat</th>\n",
       "      <th>weather</th>\n",
       "    </tr>\n",
       "  </thead>\n",
       "  <tbody>\n",
       "    <tr>\n",
       "      <th>0</th>\n",
       "      <td>-9.895657</td>\n",
       "      <td>94.587835</td>\n",
       "      <td>humid</td>\n",
       "      <td>cold</td>\n",
       "      <td>cold humid</td>\n",
       "    </tr>\n",
       "    <tr>\n",
       "      <th>1</th>\n",
       "      <td>19.882215</td>\n",
       "      <td>65.536729</td>\n",
       "      <td>moderate</td>\n",
       "      <td>moderate</td>\n",
       "      <td>moderate moderate</td>\n",
       "    </tr>\n",
       "    <tr>\n",
       "      <th>2</th>\n",
       "      <td>10.956352</td>\n",
       "      <td>90.759686</td>\n",
       "      <td>humid</td>\n",
       "      <td>moderate</td>\n",
       "      <td>moderate humid</td>\n",
       "    </tr>\n",
       "    <tr>\n",
       "      <th>3</th>\n",
       "      <td>3.653477</td>\n",
       "      <td>40.023353</td>\n",
       "      <td>moderate</td>\n",
       "      <td>cold</td>\n",
       "      <td>cold moderate</td>\n",
       "    </tr>\n",
       "    <tr>\n",
       "      <th>4</th>\n",
       "      <td>16.621728</td>\n",
       "      <td>18.904795</td>\n",
       "      <td>dry</td>\n",
       "      <td>moderate</td>\n",
       "      <td>moderate dry</td>\n",
       "    </tr>\n",
       "  </tbody>\n",
       "</table>\n",
       "</div>"
      ],
      "text/plain": [
       "        temp        hum   hum_cat  temp_cat            weather\n",
       "0  -9.895657  94.587835     humid      cold         cold humid\n",
       "1  19.882215  65.536729  moderate  moderate  moderate moderate\n",
       "2  10.956352  90.759686     humid  moderate     moderate humid\n",
       "3   3.653477  40.023353  moderate      cold      cold moderate\n",
       "4  16.621728  18.904795       dry  moderate       moderate dry"
      ]
     },
     "execution_count": 19,
     "metadata": {},
     "output_type": "execute_result"
    }
   ],
   "source": [
    "data.head()"
   ]
  },
  {
   "cell_type": "code",
   "execution_count": 24,
   "metadata": {},
   "outputs": [],
   "source": [
    "data['weather_cat'] = ''"
   ]
  },
  {
   "cell_type": "code",
   "execution_count": 25,
   "metadata": {},
   "outputs": [
    {
     "data": {
      "text/html": [
       "<div>\n",
       "<style scoped>\n",
       "    .dataframe tbody tr th:only-of-type {\n",
       "        vertical-align: middle;\n",
       "    }\n",
       "\n",
       "    .dataframe tbody tr th {\n",
       "        vertical-align: top;\n",
       "    }\n",
       "\n",
       "    .dataframe thead th {\n",
       "        text-align: right;\n",
       "    }\n",
       "</style>\n",
       "<table border=\"1\" class=\"dataframe\">\n",
       "  <thead>\n",
       "    <tr style=\"text-align: right;\">\n",
       "      <th></th>\n",
       "      <th>temp</th>\n",
       "      <th>hum</th>\n",
       "      <th>hum_cat</th>\n",
       "      <th>temp_cat</th>\n",
       "      <th>weather</th>\n",
       "      <th>weathercat</th>\n",
       "      <th>weather_cat</th>\n",
       "    </tr>\n",
       "  </thead>\n",
       "  <tbody>\n",
       "    <tr>\n",
       "      <th>0</th>\n",
       "      <td>-9.895657</td>\n",
       "      <td>94.587835</td>\n",
       "      <td>humid</td>\n",
       "      <td>cold</td>\n",
       "      <td>cold humid</td>\n",
       "      <td></td>\n",
       "      <td></td>\n",
       "    </tr>\n",
       "    <tr>\n",
       "      <th>1</th>\n",
       "      <td>19.882215</td>\n",
       "      <td>65.536729</td>\n",
       "      <td>moderate</td>\n",
       "      <td>moderate</td>\n",
       "      <td>moderate moderate</td>\n",
       "      <td></td>\n",
       "      <td></td>\n",
       "    </tr>\n",
       "    <tr>\n",
       "      <th>2</th>\n",
       "      <td>10.956352</td>\n",
       "      <td>90.759686</td>\n",
       "      <td>humid</td>\n",
       "      <td>moderate</td>\n",
       "      <td>moderate humid</td>\n",
       "      <td></td>\n",
       "      <td></td>\n",
       "    </tr>\n",
       "    <tr>\n",
       "      <th>3</th>\n",
       "      <td>3.653477</td>\n",
       "      <td>40.023353</td>\n",
       "      <td>moderate</td>\n",
       "      <td>cold</td>\n",
       "      <td>cold moderate</td>\n",
       "      <td></td>\n",
       "      <td></td>\n",
       "    </tr>\n",
       "    <tr>\n",
       "      <th>4</th>\n",
       "      <td>16.621728</td>\n",
       "      <td>18.904795</td>\n",
       "      <td>dry</td>\n",
       "      <td>moderate</td>\n",
       "      <td>moderate dry</td>\n",
       "      <td></td>\n",
       "      <td></td>\n",
       "    </tr>\n",
       "  </tbody>\n",
       "</table>\n",
       "</div>"
      ],
      "text/plain": [
       "        temp        hum   hum_cat  temp_cat            weather weathercat  \\\n",
       "0  -9.895657  94.587835     humid      cold         cold humid              \n",
       "1  19.882215  65.536729  moderate  moderate  moderate moderate              \n",
       "2  10.956352  90.759686     humid  moderate     moderate humid              \n",
       "3   3.653477  40.023353  moderate      cold      cold moderate              \n",
       "4  16.621728  18.904795       dry  moderate       moderate dry              \n",
       "\n",
       "  weather_cat  \n",
       "0              \n",
       "1              \n",
       "2              \n",
       "3              \n",
       "4              "
      ]
     },
     "execution_count": 25,
     "metadata": {},
     "output_type": "execute_result"
    }
   ],
   "source": [
    "data.head()"
   ]
  },
  {
   "cell_type": "code",
   "execution_count": 26,
   "metadata": {},
   "outputs": [],
   "source": [
    "# weather is considered 'nice' if it's either warm and dry, or moderate temperature and dry \n",
    "data.loc[data['weather'].isin(['warm dry', 'moderate dry']), 'weather_cat'] \\\n",
    "= data.loc[data['weather'].isin(['warm dry', 'moderate dry']), 'weather_cat'].apply(lambda row: randomizer(row,'nice'))"
   ]
  },
  {
   "cell_type": "code",
   "execution_count": 27,
   "metadata": {},
   "outputs": [],
   "source": [
    "# weather is considered 'bad' when it's cold and/od humid\n",
    "data.loc[data['weather'].isin(['cold humid', 'moderate humid', 'cold moderate', 'warm humid', 'cold dry']), 'weather_cat'] \\\n",
    "= data.loc[data['weather'].isin(['cold humid', 'moderate humid', 'cold moderate', 'warm humid', 'cold dry']), 'weather_cat'] \\\n",
    ".apply(lambda row: randomizer(row, 'bad'))"
   ]
  },
  {
   "cell_type": "code",
   "execution_count": 28,
   "metadata": {},
   "outputs": [],
   "source": [
    "# if it's some other combination, then the weather is considered 'ok'\n",
    "data.loc[data['weather'].isin(['warm moderate','moderate moderate']), 'weather_cat'] \\\n",
    "= data.loc[data['weather'].isin(['warm moderate','moderate moderate']), 'weather_cat'] \\\n",
    ".apply(lambda row: randomizer(row, 'ok'))"
   ]
  },
  {
   "cell_type": "code",
   "execution_count": null,
   "metadata": {},
   "outputs": [],
   "source": []
  },
  {
   "cell_type": "code",
   "execution_count": 29,
   "metadata": {},
   "outputs": [
    {
     "data": {
      "text/html": [
       "<div>\n",
       "<style scoped>\n",
       "    .dataframe tbody tr th:only-of-type {\n",
       "        vertical-align: middle;\n",
       "    }\n",
       "\n",
       "    .dataframe tbody tr th {\n",
       "        vertical-align: top;\n",
       "    }\n",
       "\n",
       "    .dataframe thead th {\n",
       "        text-align: right;\n",
       "    }\n",
       "</style>\n",
       "<table border=\"1\" class=\"dataframe\">\n",
       "  <thead>\n",
       "    <tr style=\"text-align: right;\">\n",
       "      <th></th>\n",
       "      <th>temp</th>\n",
       "      <th>hum</th>\n",
       "      <th>hum_cat</th>\n",
       "      <th>temp_cat</th>\n",
       "      <th>weather</th>\n",
       "      <th>weathercat</th>\n",
       "      <th>weather_cat</th>\n",
       "    </tr>\n",
       "  </thead>\n",
       "  <tbody>\n",
       "    <tr>\n",
       "      <th>0</th>\n",
       "      <td>-9.895657</td>\n",
       "      <td>94.587835</td>\n",
       "      <td>humid</td>\n",
       "      <td>cold</td>\n",
       "      <td>cold humid</td>\n",
       "      <td></td>\n",
       "      <td>bad</td>\n",
       "    </tr>\n",
       "    <tr>\n",
       "      <th>1</th>\n",
       "      <td>19.882215</td>\n",
       "      <td>65.536729</td>\n",
       "      <td>moderate</td>\n",
       "      <td>moderate</td>\n",
       "      <td>moderate moderate</td>\n",
       "      <td></td>\n",
       "      <td>ok</td>\n",
       "    </tr>\n",
       "    <tr>\n",
       "      <th>2</th>\n",
       "      <td>10.956352</td>\n",
       "      <td>90.759686</td>\n",
       "      <td>humid</td>\n",
       "      <td>moderate</td>\n",
       "      <td>moderate humid</td>\n",
       "      <td></td>\n",
       "      <td>bad</td>\n",
       "    </tr>\n",
       "    <tr>\n",
       "      <th>3</th>\n",
       "      <td>3.653477</td>\n",
       "      <td>40.023353</td>\n",
       "      <td>moderate</td>\n",
       "      <td>cold</td>\n",
       "      <td>cold moderate</td>\n",
       "      <td></td>\n",
       "      <td>bad</td>\n",
       "    </tr>\n",
       "    <tr>\n",
       "      <th>4</th>\n",
       "      <td>16.621728</td>\n",
       "      <td>18.904795</td>\n",
       "      <td>dry</td>\n",
       "      <td>moderate</td>\n",
       "      <td>moderate dry</td>\n",
       "      <td></td>\n",
       "      <td>nice</td>\n",
       "    </tr>\n",
       "  </tbody>\n",
       "</table>\n",
       "</div>"
      ],
      "text/plain": [
       "        temp        hum   hum_cat  temp_cat            weather weathercat  \\\n",
       "0  -9.895657  94.587835     humid      cold         cold humid              \n",
       "1  19.882215  65.536729  moderate  moderate  moderate moderate              \n",
       "2  10.956352  90.759686     humid  moderate     moderate humid              \n",
       "3   3.653477  40.023353  moderate      cold      cold moderate              \n",
       "4  16.621728  18.904795       dry  moderate       moderate dry              \n",
       "\n",
       "  weather_cat  \n",
       "0         bad  \n",
       "1          ok  \n",
       "2         bad  \n",
       "3         bad  \n",
       "4        nice  "
      ]
     },
     "execution_count": 29,
     "metadata": {},
     "output_type": "execute_result"
    }
   ],
   "source": [
    "data.head()"
   ]
  },
  {
   "cell_type": "code",
   "execution_count": 30,
   "metadata": {},
   "outputs": [],
   "source": [
    "import matplotlib.pyplot as plt"
   ]
  },
  {
   "cell_type": "code",
   "execution_count": 31,
   "metadata": {},
   "outputs": [
    {
     "data": {
      "text/plain": [
       "<matplotlib.legend.Legend at 0x7fde692170d0>"
      ]
     },
     "execution_count": 31,
     "metadata": {},
     "output_type": "execute_result"
    },
    {
     "data": {
      "image/png": "[encoded data removed]",
      "text/plain": [
       "<Figure size 864x720 with 1 Axes>"
      ]
     },
     "metadata": {
      "needs_background": "light"
     },
     "output_type": "display_data"
    }
   ],
   "source": [
    "# plot all the data points\n",
    "\n",
    "fig, ax = plt.subplots(figsize = (12,10))\n",
    "for cat in data['weather_cat'].unique():\n",
    "    plt.scatter(x = data.loc[data['weather_cat'] == cat, 'temp'], y = data.loc[data['weather_cat'] == cat, 'hum'], s = 4)\n",
    "ax.set_ylabel('humidity %')\n",
    "ax.set_xlabel('temperature ')\n",
    "ax.legend(['bad', 'nice', 'ok'])"
   ]
  },
  {
   "cell_type": "code",
   "execution_count": 32,
   "metadata": {},
   "outputs": [],
   "source": [
    "data['weather_cat'] = pd.Categorical(data['weather_cat'])"
   ]
  },
  {
   "cell_type": "code",
   "execution_count": 33,
   "metadata": {},
   "outputs": [],
   "source": [
    "data['weather_cat_idx'] = data['weather_cat'].cat.codes"
   ]
  },
  {
   "cell_type": "code",
   "execution_count": 34,
   "metadata": {},
   "outputs": [
    {
     "data": {
      "text/html": [
       "<div>\n",
       "<style scoped>\n",
       "    .dataframe tbody tr th:only-of-type {\n",
       "        vertical-align: middle;\n",
       "    }\n",
       "\n",
       "    .dataframe tbody tr th {\n",
       "        vertical-align: top;\n",
       "    }\n",
       "\n",
       "    .dataframe thead th {\n",
       "        text-align: right;\n",
       "    }\n",
       "</style>\n",
       "<table border=\"1\" class=\"dataframe\">\n",
       "  <thead>\n",
       "    <tr style=\"text-align: right;\">\n",
       "      <th></th>\n",
       "      <th>temp</th>\n",
       "      <th>hum</th>\n",
       "      <th>hum_cat</th>\n",
       "      <th>temp_cat</th>\n",
       "      <th>weather</th>\n",
       "      <th>weathercat</th>\n",
       "      <th>weather_cat</th>\n",
       "      <th>weather_cat_idx</th>\n",
       "    </tr>\n",
       "  </thead>\n",
       "  <tbody>\n",
       "    <tr>\n",
       "      <th>0</th>\n",
       "      <td>-9.895657</td>\n",
       "      <td>94.587835</td>\n",
       "      <td>humid</td>\n",
       "      <td>cold</td>\n",
       "      <td>cold humid</td>\n",
       "      <td></td>\n",
       "      <td>bad</td>\n",
       "      <td>0</td>\n",
       "    </tr>\n",
       "    <tr>\n",
       "      <th>1</th>\n",
       "      <td>19.882215</td>\n",
       "      <td>65.536729</td>\n",
       "      <td>moderate</td>\n",
       "      <td>moderate</td>\n",
       "      <td>moderate moderate</td>\n",
       "      <td></td>\n",
       "      <td>ok</td>\n",
       "      <td>2</td>\n",
       "    </tr>\n",
       "    <tr>\n",
       "      <th>2</th>\n",
       "      <td>10.956352</td>\n",
       "      <td>90.759686</td>\n",
       "      <td>humid</td>\n",
       "      <td>moderate</td>\n",
       "      <td>moderate humid</td>\n",
       "      <td></td>\n",
       "      <td>bad</td>\n",
       "      <td>0</td>\n",
       "    </tr>\n",
       "    <tr>\n",
       "      <th>3</th>\n",
       "      <td>3.653477</td>\n",
       "      <td>40.023353</td>\n",
       "      <td>moderate</td>\n",
       "      <td>cold</td>\n",
       "      <td>cold moderate</td>\n",
       "      <td></td>\n",
       "      <td>bad</td>\n",
       "      <td>0</td>\n",
       "    </tr>\n",
       "    <tr>\n",
       "      <th>4</th>\n",
       "      <td>16.621728</td>\n",
       "      <td>18.904795</td>\n",
       "      <td>dry</td>\n",
       "      <td>moderate</td>\n",
       "      <td>moderate dry</td>\n",
       "      <td></td>\n",
       "      <td>nice</td>\n",
       "      <td>1</td>\n",
       "    </tr>\n",
       "  </tbody>\n",
       "</table>\n",
       "</div>"
      ],
      "text/plain": [
       "        temp        hum   hum_cat  temp_cat            weather weathercat  \\\n",
       "0  -9.895657  94.587835     humid      cold         cold humid              \n",
       "1  19.882215  65.536729  moderate  moderate  moderate moderate              \n",
       "2  10.956352  90.759686     humid  moderate     moderate humid              \n",
       "3   3.653477  40.023353  moderate      cold      cold moderate              \n",
       "4  16.621728  18.904795       dry  moderate       moderate dry              \n",
       "\n",
       "  weather_cat  weather_cat_idx  \n",
       "0         bad                0  \n",
       "1          ok                2  \n",
       "2         bad                0  \n",
       "3         bad                0  \n",
       "4        nice                1  "
      ]
     },
     "execution_count": 34,
     "metadata": {},
     "output_type": "execute_result"
    }
   ],
   "source": [
    "# bad is 0, nice is 1, ok is 2\n",
    "\n",
    "data.head()"
   ]
  },
  {
   "cell_type": "code",
   "execution_count": 35,
   "metadata": {},
   "outputs": [],
   "source": [
    "from sklearn.linear_model import LogisticRegression"
   ]
  },
  {
   "cell_type": "code",
   "execution_count": 36,
   "metadata": {},
   "outputs": [],
   "source": [
    "X = data[['temp', 'hum']]"
   ]
  },
  {
   "cell_type": "code",
   "execution_count": 37,
   "metadata": {},
   "outputs": [],
   "source": [
    "y = data['weather_cat_idx']"
   ]
  },
  {
   "cell_type": "code",
   "execution_count": 38,
   "metadata": {},
   "outputs": [],
   "source": [
    "logreg = LogisticRegression(C = 1e5)"
   ]
  },
  {
   "cell_type": "code",
   "execution_count": 39,
   "metadata": {},
   "outputs": [
    {
     "name": "stderr",
     "output_type": "stream",
     "text": [
      "/home/nebelgrau/miniconda3/envs/minimal_ds/lib/python3.7/site-packages/sklearn/linear_model/logistic.py:432: FutureWarning: Default solver will be changed to 'lbfgs' in 0.22. Specify a solver to silence this warning.\n",
      "  FutureWarning)\n",
      "/home/nebelgrau/miniconda3/envs/minimal_ds/lib/python3.7/site-packages/sklearn/linear_model/logistic.py:469: FutureWarning: Default multi_class will be changed to 'auto' in 0.22. Specify the multi_class option to silence this warning.\n",
      "  \"this warning.\", FutureWarning)\n"
     ]
    },
    {
     "data": {
      "text/plain": [
       "LogisticRegression(C=100000.0, class_weight=None, dual=False,\n",
       "                   fit_intercept=True, intercept_scaling=1, l1_ratio=None,\n",
       "                   max_iter=100, multi_class='warn', n_jobs=None, penalty='l2',\n",
       "                   random_state=None, solver='warn', tol=0.0001, verbose=0,\n",
       "                   warm_start=False)"
      ]
     },
     "execution_count": 39,
     "metadata": {},
     "output_type": "execute_result"
    }
   ],
   "source": [
    "logreg.fit(X,y)"
   ]
  },
  {
   "cell_type": "code",
   "execution_count": 40,
   "metadata": {},
   "outputs": [
    {
     "data": {
      "text/plain": [
       "array([[-0.09970853,  0.0309918 ],\n",
       "       [ 0.06826359, -0.04702842],\n",
       "       [ 0.05767628, -0.00212381]])"
      ]
     },
     "execution_count": 40,
     "metadata": {},
     "output_type": "execute_result"
    }
   ],
   "source": [
    "logreg.coef_"
   ]
  },
  {
   "cell_type": "code",
   "execution_count": 41,
   "metadata": {},
   "outputs": [
    {
     "data": {
      "text/plain": [
       "array([-0.02518554, -0.77952247, -1.6711203 ])"
      ]
     },
     "execution_count": 41,
     "metadata": {},
     "output_type": "execute_result"
    }
   ],
   "source": [
    "logreg.intercept_"
   ]
  },
  {
   "cell_type": "code",
   "execution_count": 42,
   "metadata": {},
   "outputs": [],
   "source": [
    "x_min, x_max = X.iloc[:,0].min() - .5, X.iloc[:,0].max() + .5, "
   ]
  },
  {
   "cell_type": "code",
   "execution_count": 43,
   "metadata": {},
   "outputs": [],
   "source": [
    "y_min, y_max = X.iloc[:,1].min() - .5, X.iloc[:,1].max() + .5, "
   ]
  },
  {
   "cell_type": "code",
   "execution_count": 44,
   "metadata": {},
   "outputs": [],
   "source": [
    "h = .2 # step in the mesh"
   ]
  },
  {
   "cell_type": "code",
   "execution_count": 45,
   "metadata": {},
   "outputs": [],
   "source": [
    "import numpy as np"
   ]
  },
  {
   "cell_type": "code",
   "execution_count": 46,
   "metadata": {},
   "outputs": [],
   "source": [
    "xx, yy = np.meshgrid(np.arange(x_min, x_max, h), np.arange(y_min, y_max, h))"
   ]
  },
  {
   "cell_type": "code",
   "execution_count": 47,
   "metadata": {},
   "outputs": [],
   "source": [
    "Z = logreg.predict(np.c_[xx.ravel(), yy.ravel()])"
   ]
  },
  {
   "cell_type": "code",
   "execution_count": 48,
   "metadata": {},
   "outputs": [],
   "source": [
    "Z = Z.reshape(xx.shape)"
   ]
  },
  {
   "cell_type": "code",
   "execution_count": 49,
   "metadata": {},
   "outputs": [
    {
     "data": {
      "text/plain": [
       "<matplotlib.collections.QuadMesh at 0x7fde54c26350>"
      ]
     },
     "execution_count": 49,
     "metadata": {},
     "output_type": "execute_result"
    },
    {
     "data": {
      "image/png": "[encoded data removed]",
      "text/plain": [
       "<Figure size 504x360 with 1 Axes>"
      ]
     },
     "metadata": {
      "needs_background": "light"
     },
     "output_type": "display_data"
    }
   ],
   "source": [
    "plt.figure(1, figsize = (7,5))\n",
    "plt.pcolormesh(xx, yy, Z, cmap = plt.cm.Paired)"
   ]
  },
  {
   "cell_type": "code",
   "execution_count": 50,
   "metadata": {},
   "outputs": [
    {
     "name": "stdout",
     "output_type": "stream",
     "text": [
      "<class 'pandas.core.frame.DataFrame'>\n",
      "RangeIndex: 10000 entries, 0 to 9999\n",
      "Data columns (total 8 columns):\n",
      " #   Column           Non-Null Count  Dtype   \n",
      "---  ------           --------------  -----   \n",
      " 0   temp             10000 non-null  float64 \n",
      " 1   hum              10000 non-null  float64 \n",
      " 2   hum_cat          10000 non-null  object  \n",
      " 3   temp_cat         10000 non-null  object  \n",
      " 4   weather          10000 non-null  object  \n",
      " 5   weathercat       10000 non-null  object  \n",
      " 6   weather_cat      10000 non-null  category\n",
      " 7   weather_cat_idx  10000 non-null  int8    \n",
      "dtypes: category(1), float64(2), int8(1), object(4)\n",
      "memory usage: 488.5+ KB\n"
     ]
    }
   ],
   "source": [
    "data.info()"
   ]
  },
  {
   "cell_type": "code",
   "execution_count": 51,
   "metadata": {},
   "outputs": [
    {
     "data": {
      "text/plain": [
       "[bad, ok, nice]\n",
       "Categories (3, object): [bad, ok, nice]"
      ]
     },
     "execution_count": 51,
     "metadata": {},
     "output_type": "execute_result"
    }
   ],
   "source": [
    "data['weather_cat'].unique()"
   ]
  },
  {
   "cell_type": "code",
   "execution_count": 161,
   "metadata": {},
   "outputs": [],
   "source": [
    "# get the two boundaries for 'nice' and for 'bad'"
   ]
  },
  {
   "cell_type": "code",
   "execution_count": 52,
   "metadata": {},
   "outputs": [],
   "source": [
    "data.loc[data['weather_cat'] == 'nice', 'nice'] = 1"
   ]
  },
  {
   "cell_type": "code",
   "execution_count": 53,
   "metadata": {},
   "outputs": [],
   "source": [
    "data.loc[data['nice'].isna(), 'nice'] = 0 "
   ]
  },
  {
   "cell_type": "code",
   "execution_count": null,
   "metadata": {},
   "outputs": [],
   "source": []
  },
  {
   "cell_type": "code",
   "execution_count": 54,
   "metadata": {},
   "outputs": [],
   "source": [
    "data.loc[data['weather_cat'] == 'bad', 'bad'] = 1"
   ]
  },
  {
   "cell_type": "code",
   "execution_count": 55,
   "metadata": {},
   "outputs": [],
   "source": [
    "data.loc[data['bad'].isna(), 'bad'] = 0 "
   ]
  },
  {
   "cell_type": "code",
   "execution_count": 56,
   "metadata": {},
   "outputs": [
    {
     "data": {
      "text/html": [
       "<div>\n",
       "<style scoped>\n",
       "    .dataframe tbody tr th:only-of-type {\n",
       "        vertical-align: middle;\n",
       "    }\n",
       "\n",
       "    .dataframe tbody tr th {\n",
       "        vertical-align: top;\n",
       "    }\n",
       "\n",
       "    .dataframe thead th {\n",
       "        text-align: right;\n",
       "    }\n",
       "</style>\n",
       "<table border=\"1\" class=\"dataframe\">\n",
       "  <thead>\n",
       "    <tr style=\"text-align: right;\">\n",
       "      <th></th>\n",
       "      <th>temp</th>\n",
       "      <th>hum</th>\n",
       "      <th>hum_cat</th>\n",
       "      <th>temp_cat</th>\n",
       "      <th>weather</th>\n",
       "      <th>weathercat</th>\n",
       "      <th>weather_cat</th>\n",
       "      <th>weather_cat_idx</th>\n",
       "      <th>nice</th>\n",
       "      <th>bad</th>\n",
       "    </tr>\n",
       "  </thead>\n",
       "  <tbody>\n",
       "    <tr>\n",
       "      <th>0</th>\n",
       "      <td>-9.895657</td>\n",
       "      <td>94.587835</td>\n",
       "      <td>humid</td>\n",
       "      <td>cold</td>\n",
       "      <td>cold humid</td>\n",
       "      <td></td>\n",
       "      <td>bad</td>\n",
       "      <td>0</td>\n",
       "      <td>0.0</td>\n",
       "      <td>1.0</td>\n",
       "    </tr>\n",
       "    <tr>\n",
       "      <th>1</th>\n",
       "      <td>19.882215</td>\n",
       "      <td>65.536729</td>\n",
       "      <td>moderate</td>\n",
       "      <td>moderate</td>\n",
       "      <td>moderate moderate</td>\n",
       "      <td></td>\n",
       "      <td>ok</td>\n",
       "      <td>2</td>\n",
       "      <td>0.0</td>\n",
       "      <td>0.0</td>\n",
       "    </tr>\n",
       "    <tr>\n",
       "      <th>2</th>\n",
       "      <td>10.956352</td>\n",
       "      <td>90.759686</td>\n",
       "      <td>humid</td>\n",
       "      <td>moderate</td>\n",
       "      <td>moderate humid</td>\n",
       "      <td></td>\n",
       "      <td>bad</td>\n",
       "      <td>0</td>\n",
       "      <td>0.0</td>\n",
       "      <td>1.0</td>\n",
       "    </tr>\n",
       "    <tr>\n",
       "      <th>3</th>\n",
       "      <td>3.653477</td>\n",
       "      <td>40.023353</td>\n",
       "      <td>moderate</td>\n",
       "      <td>cold</td>\n",
       "      <td>cold moderate</td>\n",
       "      <td></td>\n",
       "      <td>bad</td>\n",
       "      <td>0</td>\n",
       "      <td>0.0</td>\n",
       "      <td>1.0</td>\n",
       "    </tr>\n",
       "    <tr>\n",
       "      <th>4</th>\n",
       "      <td>16.621728</td>\n",
       "      <td>18.904795</td>\n",
       "      <td>dry</td>\n",
       "      <td>moderate</td>\n",
       "      <td>moderate dry</td>\n",
       "      <td></td>\n",
       "      <td>nice</td>\n",
       "      <td>1</td>\n",
       "      <td>1.0</td>\n",
       "      <td>0.0</td>\n",
       "    </tr>\n",
       "  </tbody>\n",
       "</table>\n",
       "</div>"
      ],
      "text/plain": [
       "        temp        hum   hum_cat  temp_cat            weather weathercat  \\\n",
       "0  -9.895657  94.587835     humid      cold         cold humid              \n",
       "1  19.882215  65.536729  moderate  moderate  moderate moderate              \n",
       "2  10.956352  90.759686     humid  moderate     moderate humid              \n",
       "3   3.653477  40.023353  moderate      cold      cold moderate              \n",
       "4  16.621728  18.904795       dry  moderate       moderate dry              \n",
       "\n",
       "  weather_cat  weather_cat_idx  nice  bad  \n",
       "0         bad                0   0.0  1.0  \n",
       "1          ok                2   0.0  0.0  \n",
       "2         bad                0   0.0  1.0  \n",
       "3         bad                0   0.0  1.0  \n",
       "4        nice                1   1.0  0.0  "
      ]
     },
     "execution_count": 56,
     "metadata": {},
     "output_type": "execute_result"
    }
   ],
   "source": [
    "data.head()"
   ]
  },
  {
   "cell_type": "code",
   "execution_count": null,
   "metadata": {},
   "outputs": [],
   "source": [
    "# logistic regression for 'nice' vs. everything else"
   ]
  },
  {
   "cell_type": "code",
   "execution_count": 57,
   "metadata": {},
   "outputs": [],
   "source": [
    "X = data[['temp', 'hum']] \n"
   ]
  },
  {
   "cell_type": "code",
   "execution_count": 58,
   "metadata": {},
   "outputs": [],
   "source": [
    "y = data['nice']"
   ]
  },
  {
   "cell_type": "code",
   "execution_count": 59,
   "metadata": {},
   "outputs": [
    {
     "name": "stderr",
     "output_type": "stream",
     "text": [
      "/home/nebelgrau/miniconda3/envs/minimal_ds/lib/python3.7/site-packages/sklearn/linear_model/logistic.py:432: FutureWarning: Default solver will be changed to 'lbfgs' in 0.22. Specify a solver to silence this warning.\n",
      "  FutureWarning)\n"
     ]
    },
    {
     "data": {
      "text/plain": [
       "LogisticRegression(C=100000.0, class_weight=None, dual=False,\n",
       "                   fit_intercept=True, intercept_scaling=1, l1_ratio=None,\n",
       "                   max_iter=100, multi_class='warn', n_jobs=None, penalty='l2',\n",
       "                   random_state=None, solver='warn', tol=0.0001, verbose=0,\n",
       "                   warm_start=False)"
      ]
     },
     "execution_count": 59,
     "metadata": {},
     "output_type": "execute_result"
    }
   ],
   "source": [
    "logreg.fit(X,y)"
   ]
  },
  {
   "cell_type": "code",
   "execution_count": 60,
   "metadata": {},
   "outputs": [],
   "source": [
    "W_nice, b_nice = logreg.coef_, logreg.intercept_"
   ]
  },
  {
   "cell_type": "code",
   "execution_count": 61,
   "metadata": {},
   "outputs": [
    {
     "data": {
      "text/plain": [
       "array([[ 0.06826359, -0.04702842]])"
      ]
     },
     "execution_count": 61,
     "metadata": {},
     "output_type": "execute_result"
    }
   ],
   "source": [
    "W_nice\n"
   ]
  },
  {
   "cell_type": "code",
   "execution_count": 62,
   "metadata": {},
   "outputs": [
    {
     "data": {
      "text/plain": [
       "array([-0.77952247])"
      ]
     },
     "execution_count": 62,
     "metadata": {},
     "output_type": "execute_result"
    }
   ],
   "source": [
    "b_nice"
   ]
  },
  {
   "cell_type": "code",
   "execution_count": 63,
   "metadata": {},
   "outputs": [],
   "source": [
    "x = np.arange(-10,35)"
   ]
  },
  {
   "cell_type": "code",
   "execution_count": 64,
   "metadata": {},
   "outputs": [],
   "source": [
    "y = -(x * W_nice[0][0] + b_nice[0]) / W_nice[0][1]"
   ]
  },
  {
   "cell_type": "code",
   "execution_count": 65,
   "metadata": {},
   "outputs": [
    {
     "data": {
      "text/plain": [
       "[<matplotlib.lines.Line2D at 0x7fde54be6d90>]"
      ]
     },
     "execution_count": 65,
     "metadata": {},
     "output_type": "execute_result"
    },
    {
     "data": {
      "image/png": "[encoded data removed]",
      "text/plain": [
       "<Figure size 576x360 with 1 Axes>"
      ]
     },
     "metadata": {
      "needs_background": "light"
     },
     "output_type": "display_data"
    }
   ],
   "source": [
    "fig, ax = plt.subplots(figsize = (8,5))\n",
    "ax.set_xlim(-10,35)\n",
    "ax.set_ylim(0,100)\n",
    "plt.plot(x, y)"
   ]
  },
  {
   "cell_type": "code",
   "execution_count": null,
   "metadata": {},
   "outputs": [],
   "source": []
  },
  {
   "cell_type": "code",
   "execution_count": 66,
   "metadata": {},
   "outputs": [],
   "source": [
    "X = data[['temp', 'hum']] \n"
   ]
  },
  {
   "cell_type": "code",
   "execution_count": 67,
   "metadata": {},
   "outputs": [],
   "source": [
    "y = data['bad']"
   ]
  },
  {
   "cell_type": "code",
   "execution_count": 68,
   "metadata": {},
   "outputs": [
    {
     "name": "stderr",
     "output_type": "stream",
     "text": [
      "/home/nebelgrau/miniconda3/envs/minimal_ds/lib/python3.7/site-packages/sklearn/linear_model/logistic.py:432: FutureWarning: Default solver will be changed to 'lbfgs' in 0.22. Specify a solver to silence this warning.\n",
      "  FutureWarning)\n"
     ]
    },
    {
     "data": {
      "text/plain": [
       "LogisticRegression(C=100000.0, class_weight=None, dual=False,\n",
       "                   fit_intercept=True, intercept_scaling=1, l1_ratio=None,\n",
       "                   max_iter=100, multi_class='warn', n_jobs=None, penalty='l2',\n",
       "                   random_state=None, solver='warn', tol=0.0001, verbose=0,\n",
       "                   warm_start=False)"
      ]
     },
     "execution_count": 68,
     "metadata": {},
     "output_type": "execute_result"
    }
   ],
   "source": [
    "logreg.fit(X,y)"
   ]
  },
  {
   "cell_type": "code",
   "execution_count": 69,
   "metadata": {},
   "outputs": [],
   "source": [
    "W_bad, b_bad = logreg.coef_, logreg.intercept_"
   ]
  },
  {
   "cell_type": "code",
   "execution_count": 70,
   "metadata": {},
   "outputs": [
    {
     "data": {
      "text/plain": [
       "array([[-0.09970853,  0.0309918 ]])"
      ]
     },
     "execution_count": 70,
     "metadata": {},
     "output_type": "execute_result"
    }
   ],
   "source": [
    "W_bad\n"
   ]
  },
  {
   "cell_type": "code",
   "execution_count": 71,
   "metadata": {},
   "outputs": [
    {
     "data": {
      "text/plain": [
       "array([-0.02518554])"
      ]
     },
     "execution_count": 71,
     "metadata": {},
     "output_type": "execute_result"
    }
   ],
   "source": [
    "b_bad"
   ]
  },
  {
   "cell_type": "code",
   "execution_count": 72,
   "metadata": {},
   "outputs": [],
   "source": [
    "t = np.arange(-10,35)"
   ]
  },
  {
   "cell_type": "code",
   "execution_count": 76,
   "metadata": {},
   "outputs": [],
   "source": [
    "h_nice = -(t * W_nice[0][0] + b_nice[0]) / W_nice[0][1]"
   ]
  },
  {
   "cell_type": "code",
   "execution_count": 77,
   "metadata": {},
   "outputs": [],
   "source": [
    "h_bad = -(t * W_bad[0][0] + b_bad[0]) / W_bad[0][1]"
   ]
  },
  {
   "cell_type": "code",
   "execution_count": 75,
   "metadata": {},
   "outputs": [
    {
     "data": {
      "text/plain": [
       "[<matplotlib.lines.Line2D at 0x7fde547952d0>]"
      ]
     },
     "execution_count": 75,
     "metadata": {},
     "output_type": "execute_result"
    },
    {
     "data": {
      "image/png": "[encoded data removed]",
      "text/plain": [
       "<Figure size 576x360 with 1 Axes>"
      ]
     },
     "metadata": {
      "needs_background": "light"
     },
     "output_type": "display_data"
    }
   ],
   "source": [
    "fig, ax = plt.subplots(figsize = (8,5))\n",
    "ax.set_xlim(-10,35)\n",
    "ax.set_ylim(0,100)\n",
    "plt.plot(t, h_nice, c = 'g')\n",
    "plt.plot(t, h_bad, c = 'r')\n"
   ]
  },
  {
   "cell_type": "code",
   "execution_count": 80,
   "metadata": {},
   "outputs": [],
   "source": [
    "samples = [(25,70), (10,15), (24,23), (21,60), (7,60), (23,15), (28,80)]"
   ]
  },
  {
   "cell_type": "code",
   "execution_count": null,
   "metadata": {},
   "outputs": [],
   "source": []
  },
  {
   "cell_type": "code",
   "execution_count": 81,
   "metadata": {},
   "outputs": [
    {
     "name": "stdout",
     "output_type": "stream",
     "text": [
      "temp 25°C, hum 70% - hum_nice 19.71291557867815%, hum_bad 81.24403029375354%\n",
      "temp: 25°C, hum: 70% - it's ok.\n",
      "temp 10°C, hum 15% - hum_nice -2.060170511303494%, hum_bad 32.985203098168974%\n",
      "temp: 10°C, hum: 15% - it's ok.\n",
      "temp 24°C, hum 23% - hum_nice 18.261376506012706%, hum_bad 78.02677514738124%\n",
      "temp: 24°C, hum: 23% - it's ok.\n",
      "temp 21°C, hum 60% - hum_nice 13.906759288016376%, hum_bad 68.37500970826433%\n",
      "temp: 21°C, hum: 60% - it's ok.\n",
      "temp 7°C, hum 60% - hum_nice -6.414787729299824%, hum_bad 23.333437659052063%\n",
      "temp: 7°C, hum: 60% - bad! :(\n",
      "temp 23°C, hum 15% - hum_nice 16.809837433347266%, hum_bad 74.80952000100895%\n",
      "temp: 23°C, hum: 15% - nice! :) \n",
      "temp 28°C, hum 80% - hum_nice 24.06753279667448%, hum_bad 90.89579573287047%\n",
      "temp: 28°C, hum: 80% - it's ok.\n"
     ]
    }
   ],
   "source": [
    "for sample in samples:\n",
    "    t, h = sample\n",
    "    \n",
    "    h_nice = -(t * W_nice[0][0] + b_nice[0]) / W_nice[0][1]\n",
    "    h_bad = -(t * W_bad[0][0] + b_bad[0]) / W_bad[0][1]\n",
    "    \n",
    "    print(\"temp {}°C, hum {}% - hum_nice {}%, hum_bad {}%\".format(t,h,h_nice, h_bad))\n",
    "    \n",
    "    if h >= h_bad:\n",
    "        print(\"temp: {}°C, hum: {}% - bad! :(\".format(t,h))\n",
    "    elif h <= h_nice:\n",
    "        print(\"temp: {}°C, hum: {}% - nice! :) \".format(t,h))\n",
    "    else:\n",
    "        print(\"temp: {}°C, hum: {}% - it's ok.\".format(t,h))\n",
    "    "
   ]
  },
  {
   "cell_type": "code",
   "execution_count": null,
   "metadata": {},
   "outputs": [],
   "source": []
  },
  {
   "cell_type": "code",
   "execution_count": 82,
   "metadata": {},
   "outputs": [],
   "source": [
    "from sklearn.preprocessing import PolynomialFeatures"
   ]
  },
  {
   "cell_type": "code",
   "execution_count": 83,
   "metadata": {},
   "outputs": [],
   "source": [
    "from sklearn.pipeline import Pipeline"
   ]
  },
  {
   "cell_type": "code",
   "execution_count": 84,
   "metadata": {},
   "outputs": [],
   "source": [
    "from sklearn.model_selection import train_test_split\n"
   ]
  },
  {
   "cell_type": "code",
   "execution_count": 85,
   "metadata": {},
   "outputs": [],
   "source": [
    "X = data[['hum', 'temp']]"
   ]
  },
  {
   "cell_type": "code",
   "execution_count": 86,
   "metadata": {},
   "outputs": [],
   "source": [
    "y = data['weather_cat_idx']"
   ]
  },
  {
   "cell_type": "code",
   "execution_count": 87,
   "metadata": {},
   "outputs": [],
   "source": [
    "poly = PolynomialFeatures(degree = 2, interaction_only = False, include_bias = False)"
   ]
  },
  {
   "cell_type": "code",
   "execution_count": 88,
   "metadata": {},
   "outputs": [],
   "source": [
    "X_train, X_test, y_train, y_test = train_test_split(X,y)"
   ]
  },
  {
   "cell_type": "code",
   "execution_count": 89,
   "metadata": {},
   "outputs": [
    {
     "data": {
      "text/plain": [
       "(7500, 2)"
      ]
     },
     "execution_count": 89,
     "metadata": {},
     "output_type": "execute_result"
    }
   ],
   "source": [
    "X_train.shape"
   ]
  },
  {
   "cell_type": "code",
   "execution_count": 90,
   "metadata": {},
   "outputs": [],
   "source": [
    "X_poly = poly.fit_transform(X_train)"
   ]
  },
  {
   "cell_type": "code",
   "execution_count": 91,
   "metadata": {},
   "outputs": [
    {
     "data": {
      "text/plain": [
       "(7500, 5)"
      ]
     },
     "execution_count": 91,
     "metadata": {},
     "output_type": "execute_result"
    }
   ],
   "source": [
    "X_poly.shape"
   ]
  },
  {
   "cell_type": "code",
   "execution_count": 92,
   "metadata": {},
   "outputs": [],
   "source": [
    "lr = LogisticRegression()"
   ]
  },
  {
   "cell_type": "code",
   "execution_count": 93,
   "metadata": {},
   "outputs": [
    {
     "name": "stderr",
     "output_type": "stream",
     "text": [
      "/home/nebelgrau/miniconda3/envs/minimal_ds/lib/python3.7/site-packages/sklearn/linear_model/logistic.py:432: FutureWarning: Default solver will be changed to 'lbfgs' in 0.22. Specify a solver to silence this warning.\n",
      "  FutureWarning)\n",
      "/home/nebelgrau/miniconda3/envs/minimal_ds/lib/python3.7/site-packages/sklearn/linear_model/logistic.py:469: FutureWarning: Default multi_class will be changed to 'auto' in 0.22. Specify the multi_class option to silence this warning.\n",
      "  \"this warning.\", FutureWarning)\n"
     ]
    },
    {
     "data": {
      "text/plain": [
       "LogisticRegression(C=1.0, class_weight=None, dual=False, fit_intercept=True,\n",
       "                   intercept_scaling=1, l1_ratio=None, max_iter=100,\n",
       "                   multi_class='warn', n_jobs=None, penalty='l2',\n",
       "                   random_state=None, solver='warn', tol=0.0001, verbose=0,\n",
       "                   warm_start=False)"
      ]
     },
     "execution_count": 93,
     "metadata": {},
     "output_type": "execute_result"
    }
   ],
   "source": [
    "lr.fit(X_poly, y_train)"
   ]
  },
  {
   "cell_type": "code",
   "execution_count": 94,
   "metadata": {},
   "outputs": [
    {
     "data": {
      "text/plain": [
       "0.812"
      ]
     },
     "execution_count": 94,
     "metadata": {},
     "output_type": "execute_result"
    }
   ],
   "source": [
    "lr.score(poly.transform(X_test), y_test)"
   ]
  },
  {
   "cell_type": "code",
   "execution_count": 95,
   "metadata": {},
   "outputs": [
    {
     "data": {
      "text/plain": [
       "array([[-0.05867425, -0.22381246,  0.00064098,  0.00203191,  0.00057312],\n",
       "       [-0.11351455,  0.17867957,  0.00097417, -0.00152636, -0.00197617],\n",
       "       [ 0.16371461,  0.09708219, -0.00176706,  0.00037869, -0.00162209]])"
      ]
     },
     "execution_count": 95,
     "metadata": {},
     "output_type": "execute_result"
    }
   ],
   "source": [
    "lr.coef_"
   ]
  },
  {
   "cell_type": "code",
   "execution_count": 96,
   "metadata": {},
   "outputs": [
    {
     "data": {
      "text/plain": [
       "array([ 2.31396237, -0.29475986, -4.66592429])"
      ]
     },
     "execution_count": 96,
     "metadata": {},
     "output_type": "execute_result"
    }
   ],
   "source": [
    "lr.intercept_"
   ]
  },
  {
   "cell_type": "code",
   "execution_count": null,
   "metadata": {},
   "outputs": [],
   "source": []
  },
  {
   "cell_type": "code",
   "execution_count": null,
   "metadata": {},
   "outputs": [],
   "source": [
    "'''\n",
    "Once the model is fit we call .coef_ and .intercept_ to see the predicted coefficients and intercept term. \n",
    "Following the linear form Y = Mx + b we can now see the linear equation for our decision boundary is \n",
    "Sepal_Length * (0.4437) + Petal_Width * (-4.6018) + 0.9626. \n",
    "\n",
    "so that's SL * W[0] + PW * W[1] + b\n",
    "\n",
    "SL is X, PW is Y\n",
    "\n",
    "so PW * W[1] = -SL * W[0] - b\n",
    "therefore PW = -(SL*W[0] + b) / W[1]\n",
    "'''\n",
    "\n"
   ]
  },
  {
   "cell_type": "code",
   "execution_count": null,
   "metadata": {},
   "outputs": [],
   "source": []
  },
  {
   "cell_type": "code",
   "execution_count": null,
   "metadata": {},
   "outputs": [],
   "source": []
  },
  {
   "cell_type": "code",
   "execution_count": 98,
   "metadata": {},
   "outputs": [],
   "source": [
    "X = data[['hum', 'temp']]"
   ]
  },
  {
   "cell_type": "code",
   "execution_count": 99,
   "metadata": {},
   "outputs": [],
   "source": [
    "y = data['nice']"
   ]
  },
  {
   "cell_type": "code",
   "execution_count": 100,
   "metadata": {},
   "outputs": [],
   "source": [
    "poly = PolynomialFeatures(degree = 2, interaction_only = False, include_bias = False)"
   ]
  },
  {
   "cell_type": "code",
   "execution_count": 101,
   "metadata": {},
   "outputs": [],
   "source": [
    "X_train, X_test, y_train, y_test = train_test_split(X,y)"
   ]
  },
  {
   "cell_type": "code",
   "execution_count": 102,
   "metadata": {},
   "outputs": [
    {
     "data": {
      "text/plain": [
       "(7500, 2)"
      ]
     },
     "execution_count": 102,
     "metadata": {},
     "output_type": "execute_result"
    }
   ],
   "source": [
    "X_train.shape"
   ]
  },
  {
   "cell_type": "code",
   "execution_count": 103,
   "metadata": {},
   "outputs": [],
   "source": [
    "X_poly = poly.fit_transform(X_train)"
   ]
  },
  {
   "cell_type": "code",
   "execution_count": 104,
   "metadata": {},
   "outputs": [
    {
     "data": {
      "text/plain": [
       "(7500, 5)"
      ]
     },
     "execution_count": 104,
     "metadata": {},
     "output_type": "execute_result"
    }
   ],
   "source": [
    "X_poly.shape"
   ]
  },
  {
   "cell_type": "code",
   "execution_count": 105,
   "metadata": {},
   "outputs": [],
   "source": [
    "lr = LogisticRegression()"
   ]
  },
  {
   "cell_type": "code",
   "execution_count": 106,
   "metadata": {},
   "outputs": [
    {
     "name": "stderr",
     "output_type": "stream",
     "text": [
      "/home/nebelgrau/miniconda3/envs/minimal_ds/lib/python3.7/site-packages/sklearn/linear_model/logistic.py:432: FutureWarning: Default solver will be changed to 'lbfgs' in 0.22. Specify a solver to silence this warning.\n",
      "  FutureWarning)\n"
     ]
    },
    {
     "data": {
      "text/plain": [
       "LogisticRegression(C=1.0, class_weight=None, dual=False, fit_intercept=True,\n",
       "                   intercept_scaling=1, l1_ratio=None, max_iter=100,\n",
       "                   multi_class='warn', n_jobs=None, penalty='l2',\n",
       "                   random_state=None, solver='warn', tol=0.0001, verbose=0,\n",
       "                   warm_start=False)"
      ]
     },
     "execution_count": 106,
     "metadata": {},
     "output_type": "execute_result"
    }
   ],
   "source": [
    "lr.fit(X_poly, y_train)"
   ]
  },
  {
   "cell_type": "code",
   "execution_count": 107,
   "metadata": {},
   "outputs": [
    {
     "data": {
      "text/plain": [
       "0.8984"
      ]
     },
     "execution_count": 107,
     "metadata": {},
     "output_type": "execute_result"
    }
   ],
   "source": [
    "lr.score(poly.transform(X_test), y_test)"
   ]
  },
  {
   "cell_type": "code",
   "execution_count": 110,
   "metadata": {},
   "outputs": [],
   "source": [
    "W = lr.coef_"
   ]
  },
  {
   "cell_type": "code",
   "execution_count": 112,
   "metadata": {},
   "outputs": [
    {
     "data": {
      "text/plain": [
       "array([[-0.08605272,  0.19827515,  0.00075882, -0.00193614, -0.00202101]])"
      ]
     },
     "execution_count": 112,
     "metadata": {},
     "output_type": "execute_result"
    }
   ],
   "source": [
    "W"
   ]
  },
  {
   "cell_type": "code",
   "execution_count": 111,
   "metadata": {},
   "outputs": [],
   "source": [
    "b = lr.intercept_"
   ]
  },
  {
   "cell_type": "code",
   "execution_count": 113,
   "metadata": {},
   "outputs": [
    {
     "data": {
      "text/plain": [
       "array([-0.95894752])"
      ]
     },
     "execution_count": 113,
     "metadata": {},
     "output_type": "execute_result"
    }
   ],
   "source": [
    "b"
   ]
  },
  {
   "cell_type": "code",
   "execution_count": null,
   "metadata": {},
   "outputs": [],
   "source": [
    "'''\n",
    "f(x,y; c) = c_0 + c_1 x + c_2 y + c_3 x² + c_4 x y + c_5 y²\n",
    "\n",
    "\n",
    "linear: \n",
    "\n",
    "f(x,y;c) = c_0 + c_1 x + c_2 y\n",
    "Y = Mx + b -> Y*c2 = - x*c1  - c0 -> Y = -(x*c1 + c0) / c2\n",
    "\n",
    "\n",
    "\n",
    "c4xy + c5y2 +c2y = - c0 - c1x - c3x2\n",
    "\n",
    "(c4x + c5y + c2)y = -c0 - c1x - c3x2\n",
    "\n",
    "\n",
    "'''\n",
    "\n"
   ]
  },
  {
   "cell_type": "code",
   "execution_count": null,
   "metadata": {},
   "outputs": [],
   "source": []
  },
  {
   "cell_type": "code",
   "execution_count": 114,
   "metadata": {},
   "outputs": [],
   "source": [
    "def result(x,y):\n",
    "    return b[0] + W[0][0]*x + W[0][1]*y + W[0][2]*x*x + W[0][3]*x*y + W[0][4]*y*y"
   ]
  },
  {
   "cell_type": "code",
   "execution_count": 115,
   "metadata": {},
   "outputs": [],
   "source": [
    "samples = [(25,70), (10,15), (24,23), (21,60), (7,60), (23,15), (28,80)]"
   ]
  },
  {
   "cell_type": "code",
   "execution_count": 116,
   "metadata": {},
   "outputs": [
    {
     "name": "stdout",
     "output_type": "stream",
     "text": [
      "25 70 -2.0479145113402613\n",
      "10 15 0.4853876847428495\n",
      "24 23 -0.16466236681893487\n",
      "21 60 -0.250062424707326\n",
      "7 60 2.2835722283676736\n",
      "23 15 -0.6853089916736277\n",
      "28 80 -4.1828858438687675\n"
     ]
    }
   ],
   "source": [
    "for sample in samples:\n",
    "    print(sample[0], sample[1], result(sample[0], sample[1]))"
   ]
  }
 ],
 "metadata": {
  "kernelspec": {
   "display_name": "Python 3",
   "language": "python",
   "name": "python3"
  },
  "language_info": {
   "codemirror_mode": {
    "name": "ipython",
    "version": 3
   },
   "file_extension": ".py",
   "mimetype": "text/x-python",
   "name": "python",
   "nbconvert_exporter": "python",
   "pygments_lexer": "ipython3",
   "version": "3.7.6"
  }
 },
 "nbformat": 4,
 "nbformat_minor": 4
}